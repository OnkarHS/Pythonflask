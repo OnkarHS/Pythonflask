{
 "cells": [
  {
   "cell_type": "markdown",
   "metadata": {},
   "source": [
    "# Car Price Prediction Using Random Forest Algorithm\n",
    "\n",
    "Name:- Onkar H Sardesai   \n",
    "\n",
    "Roll Number:- 202050011\n",
    "\n",
    "Class: FY MTech Computer Engineering  \n"
   ]
  },
  {
   "cell_type": "code",
   "execution_count": 1,
   "metadata": {},
   "outputs": [],
   "source": [
    "import pandas as pd"
   ]
  },
  {
   "cell_type": "code",
   "execution_count": 2,
   "metadata": {},
   "outputs": [],
   "source": [
    "df = pd.read_csv('car data.csv')"
   ]
  },
  {
   "cell_type": "markdown",
   "metadata": {},
   "source": [
    "## Inserting Car data from dataset into data frame "
   ]
  },
  {
   "cell_type": "code",
   "execution_count": 3,
   "metadata": {},
   "outputs": [
    {
     "data": {
      "text/html": [
       "<div>\n",
       "<style scoped>\n",
       "    .dataframe tbody tr th:only-of-type {\n",
       "        vertical-align: middle;\n",
       "    }\n",
       "\n",
       "    .dataframe tbody tr th {\n",
       "        vertical-align: top;\n",
       "    }\n",
       "\n",
       "    .dataframe thead th {\n",
       "        text-align: right;\n",
       "    }\n",
       "</style>\n",
       "<table border=\"1\" class=\"dataframe\">\n",
       "  <thead>\n",
       "    <tr style=\"text-align: right;\">\n",
       "      <th></th>\n",
       "      <th>Car_Name</th>\n",
       "      <th>Year</th>\n",
       "      <th>Selling_Price</th>\n",
       "      <th>Present_Price</th>\n",
       "      <th>Kms_Driven</th>\n",
       "      <th>Fuel_Type</th>\n",
       "      <th>Seller_Type</th>\n",
       "      <th>Transmission</th>\n",
       "      <th>Owner</th>\n",
       "    </tr>\n",
       "  </thead>\n",
       "  <tbody>\n",
       "    <tr>\n",
       "      <th>0</th>\n",
       "      <td>ritz</td>\n",
       "      <td>2014</td>\n",
       "      <td>3.35</td>\n",
       "      <td>5.59</td>\n",
       "      <td>27000</td>\n",
       "      <td>Petrol</td>\n",
       "      <td>Dealer</td>\n",
       "      <td>Manual</td>\n",
       "      <td>0</td>\n",
       "    </tr>\n",
       "    <tr>\n",
       "      <th>1</th>\n",
       "      <td>sx4</td>\n",
       "      <td>2013</td>\n",
       "      <td>4.75</td>\n",
       "      <td>9.54</td>\n",
       "      <td>43000</td>\n",
       "      <td>Diesel</td>\n",
       "      <td>Dealer</td>\n",
       "      <td>Manual</td>\n",
       "      <td>0</td>\n",
       "    </tr>\n",
       "    <tr>\n",
       "      <th>2</th>\n",
       "      <td>ciaz</td>\n",
       "      <td>2017</td>\n",
       "      <td>7.25</td>\n",
       "      <td>9.85</td>\n",
       "      <td>6900</td>\n",
       "      <td>Petrol</td>\n",
       "      <td>Dealer</td>\n",
       "      <td>Manual</td>\n",
       "      <td>0</td>\n",
       "    </tr>\n",
       "    <tr>\n",
       "      <th>3</th>\n",
       "      <td>wagon r</td>\n",
       "      <td>2011</td>\n",
       "      <td>2.85</td>\n",
       "      <td>4.15</td>\n",
       "      <td>5200</td>\n",
       "      <td>Petrol</td>\n",
       "      <td>Dealer</td>\n",
       "      <td>Manual</td>\n",
       "      <td>0</td>\n",
       "    </tr>\n",
       "    <tr>\n",
       "      <th>4</th>\n",
       "      <td>swift</td>\n",
       "      <td>2014</td>\n",
       "      <td>4.60</td>\n",
       "      <td>6.87</td>\n",
       "      <td>42450</td>\n",
       "      <td>Diesel</td>\n",
       "      <td>Dealer</td>\n",
       "      <td>Manual</td>\n",
       "      <td>0</td>\n",
       "    </tr>\n",
       "  </tbody>\n",
       "</table>\n",
       "</div>"
      ],
      "text/plain": [
       "  Car_Name  Year  Selling_Price  Present_Price  Kms_Driven Fuel_Type  \\\n",
       "0     ritz  2014           3.35           5.59       27000    Petrol   \n",
       "1      sx4  2013           4.75           9.54       43000    Diesel   \n",
       "2     ciaz  2017           7.25           9.85        6900    Petrol   \n",
       "3  wagon r  2011           2.85           4.15        5200    Petrol   \n",
       "4    swift  2014           4.60           6.87       42450    Diesel   \n",
       "\n",
       "  Seller_Type Transmission  Owner  \n",
       "0      Dealer       Manual      0  \n",
       "1      Dealer       Manual      0  \n",
       "2      Dealer       Manual      0  \n",
       "3      Dealer       Manual      0  \n",
       "4      Dealer       Manual      0  "
      ]
     },
     "execution_count": 3,
     "metadata": {},
     "output_type": "execute_result"
    }
   ],
   "source": [
    "df.head()"
   ]
  },
  {
   "cell_type": "code",
   "execution_count": 4,
   "metadata": {},
   "outputs": [
    {
     "data": {
      "text/plain": [
       "(301, 9)"
      ]
     },
     "execution_count": 4,
     "metadata": {},
     "output_type": "execute_result"
    }
   ],
   "source": [
    "df.shape"
   ]
  },
  {
   "cell_type": "markdown",
   "metadata": {},
   "source": [
    "### Types of Values in data features"
   ]
  },
  {
   "cell_type": "code",
   "execution_count": 5,
   "metadata": {},
   "outputs": [
    {
     "name": "stdout",
     "output_type": "stream",
     "text": [
      "['Dealer' 'Individual']\n",
      "['Manual' 'Automatic']\n",
      "[0 1 3]\n",
      "['Petrol' 'Diesel' 'CNG']\n"
     ]
    }
   ],
   "source": [
    "print(df['Seller_Type'].unique())\n",
    "print(df['Transmission'].unique())\n",
    "print(df['Owner'].unique())\n",
    "print(df['Fuel_Type'].unique())"
   ]
  },
  {
   "cell_type": "code",
   "execution_count": 6,
   "metadata": {},
   "outputs": [
    {
     "data": {
      "text/plain": [
       "Car_Name         0\n",
       "Year             0\n",
       "Selling_Price    0\n",
       "Present_Price    0\n",
       "Kms_Driven       0\n",
       "Fuel_Type        0\n",
       "Seller_Type      0\n",
       "Transmission     0\n",
       "Owner            0\n",
       "dtype: int64"
      ]
     },
     "execution_count": 6,
     "metadata": {},
     "output_type": "execute_result"
    }
   ],
   "source": [
    "## check missing or null values\n",
    "df.isnull().sum()"
   ]
  },
  {
   "cell_type": "code",
   "execution_count": 7,
   "metadata": {},
   "outputs": [
    {
     "data": {
      "text/html": [
       "<div>\n",
       "<style scoped>\n",
       "    .dataframe tbody tr th:only-of-type {\n",
       "        vertical-align: middle;\n",
       "    }\n",
       "\n",
       "    .dataframe tbody tr th {\n",
       "        vertical-align: top;\n",
       "    }\n",
       "\n",
       "    .dataframe thead th {\n",
       "        text-align: right;\n",
       "    }\n",
       "</style>\n",
       "<table border=\"1\" class=\"dataframe\">\n",
       "  <thead>\n",
       "    <tr style=\"text-align: right;\">\n",
       "      <th></th>\n",
       "      <th>Year</th>\n",
       "      <th>Selling_Price</th>\n",
       "      <th>Present_Price</th>\n",
       "      <th>Kms_Driven</th>\n",
       "      <th>Owner</th>\n",
       "    </tr>\n",
       "  </thead>\n",
       "  <tbody>\n",
       "    <tr>\n",
       "      <th>count</th>\n",
       "      <td>301.000000</td>\n",
       "      <td>301.000000</td>\n",
       "      <td>301.000000</td>\n",
       "      <td>301.000000</td>\n",
       "      <td>301.000000</td>\n",
       "    </tr>\n",
       "    <tr>\n",
       "      <th>mean</th>\n",
       "      <td>2013.627907</td>\n",
       "      <td>4.661296</td>\n",
       "      <td>7.628472</td>\n",
       "      <td>36947.205980</td>\n",
       "      <td>0.043189</td>\n",
       "    </tr>\n",
       "    <tr>\n",
       "      <th>std</th>\n",
       "      <td>2.891554</td>\n",
       "      <td>5.082812</td>\n",
       "      <td>8.644115</td>\n",
       "      <td>38886.883882</td>\n",
       "      <td>0.247915</td>\n",
       "    </tr>\n",
       "    <tr>\n",
       "      <th>min</th>\n",
       "      <td>2003.000000</td>\n",
       "      <td>0.100000</td>\n",
       "      <td>0.320000</td>\n",
       "      <td>500.000000</td>\n",
       "      <td>0.000000</td>\n",
       "    </tr>\n",
       "    <tr>\n",
       "      <th>25%</th>\n",
       "      <td>2012.000000</td>\n",
       "      <td>0.900000</td>\n",
       "      <td>1.200000</td>\n",
       "      <td>15000.000000</td>\n",
       "      <td>0.000000</td>\n",
       "    </tr>\n",
       "    <tr>\n",
       "      <th>50%</th>\n",
       "      <td>2014.000000</td>\n",
       "      <td>3.600000</td>\n",
       "      <td>6.400000</td>\n",
       "      <td>32000.000000</td>\n",
       "      <td>0.000000</td>\n",
       "    </tr>\n",
       "    <tr>\n",
       "      <th>75%</th>\n",
       "      <td>2016.000000</td>\n",
       "      <td>6.000000</td>\n",
       "      <td>9.900000</td>\n",
       "      <td>48767.000000</td>\n",
       "      <td>0.000000</td>\n",
       "    </tr>\n",
       "    <tr>\n",
       "      <th>max</th>\n",
       "      <td>2018.000000</td>\n",
       "      <td>35.000000</td>\n",
       "      <td>92.600000</td>\n",
       "      <td>500000.000000</td>\n",
       "      <td>3.000000</td>\n",
       "    </tr>\n",
       "  </tbody>\n",
       "</table>\n",
       "</div>"
      ],
      "text/plain": [
       "              Year  Selling_Price  Present_Price     Kms_Driven       Owner\n",
       "count   301.000000     301.000000     301.000000     301.000000  301.000000\n",
       "mean   2013.627907       4.661296       7.628472   36947.205980    0.043189\n",
       "std       2.891554       5.082812       8.644115   38886.883882    0.247915\n",
       "min    2003.000000       0.100000       0.320000     500.000000    0.000000\n",
       "25%    2012.000000       0.900000       1.200000   15000.000000    0.000000\n",
       "50%    2014.000000       3.600000       6.400000   32000.000000    0.000000\n",
       "75%    2016.000000       6.000000       9.900000   48767.000000    0.000000\n",
       "max    2018.000000      35.000000      92.600000  500000.000000    3.000000"
      ]
     },
     "execution_count": 7,
     "metadata": {},
     "output_type": "execute_result"
    }
   ],
   "source": [
    "df.describe()"
   ]
  },
  {
   "cell_type": "markdown",
   "metadata": {},
   "source": [
    "### Data Exploration and Feature Extraction "
   ]
  },
  {
   "cell_type": "code",
   "execution_count": 8,
   "metadata": {},
   "outputs": [
    {
     "data": {
      "text/plain": [
       "Index(['Car_Name', 'Year', 'Selling_Price', 'Present_Price', 'Kms_Driven',\n",
       "       'Fuel_Type', 'Seller_Type', 'Transmission', 'Owner'],\n",
       "      dtype='object')"
      ]
     },
     "execution_count": 8,
     "metadata": {},
     "output_type": "execute_result"
    }
   ],
   "source": [
    "df.columns"
   ]
  },
  {
   "cell_type": "code",
   "execution_count": 9,
   "metadata": {},
   "outputs": [],
   "source": [
    "final_dataset = df[['Year', 'Selling_Price', 'Present_Price', 'Kms_Driven',\n",
    "       'Fuel_Type', 'Seller_Type', 'Transmission', 'Owner']]"
   ]
  },
  {
   "cell_type": "code",
   "execution_count": 10,
   "metadata": {},
   "outputs": [
    {
     "data": {
      "text/html": [
       "<div>\n",
       "<style scoped>\n",
       "    .dataframe tbody tr th:only-of-type {\n",
       "        vertical-align: middle;\n",
       "    }\n",
       "\n",
       "    .dataframe tbody tr th {\n",
       "        vertical-align: top;\n",
       "    }\n",
       "\n",
       "    .dataframe thead th {\n",
       "        text-align: right;\n",
       "    }\n",
       "</style>\n",
       "<table border=\"1\" class=\"dataframe\">\n",
       "  <thead>\n",
       "    <tr style=\"text-align: right;\">\n",
       "      <th></th>\n",
       "      <th>Year</th>\n",
       "      <th>Selling_Price</th>\n",
       "      <th>Present_Price</th>\n",
       "      <th>Kms_Driven</th>\n",
       "      <th>Fuel_Type</th>\n",
       "      <th>Seller_Type</th>\n",
       "      <th>Transmission</th>\n",
       "      <th>Owner</th>\n",
       "    </tr>\n",
       "  </thead>\n",
       "  <tbody>\n",
       "    <tr>\n",
       "      <th>0</th>\n",
       "      <td>2014</td>\n",
       "      <td>3.35</td>\n",
       "      <td>5.59</td>\n",
       "      <td>27000</td>\n",
       "      <td>Petrol</td>\n",
       "      <td>Dealer</td>\n",
       "      <td>Manual</td>\n",
       "      <td>0</td>\n",
       "    </tr>\n",
       "    <tr>\n",
       "      <th>1</th>\n",
       "      <td>2013</td>\n",
       "      <td>4.75</td>\n",
       "      <td>9.54</td>\n",
       "      <td>43000</td>\n",
       "      <td>Diesel</td>\n",
       "      <td>Dealer</td>\n",
       "      <td>Manual</td>\n",
       "      <td>0</td>\n",
       "    </tr>\n",
       "    <tr>\n",
       "      <th>2</th>\n",
       "      <td>2017</td>\n",
       "      <td>7.25</td>\n",
       "      <td>9.85</td>\n",
       "      <td>6900</td>\n",
       "      <td>Petrol</td>\n",
       "      <td>Dealer</td>\n",
       "      <td>Manual</td>\n",
       "      <td>0</td>\n",
       "    </tr>\n",
       "    <tr>\n",
       "      <th>3</th>\n",
       "      <td>2011</td>\n",
       "      <td>2.85</td>\n",
       "      <td>4.15</td>\n",
       "      <td>5200</td>\n",
       "      <td>Petrol</td>\n",
       "      <td>Dealer</td>\n",
       "      <td>Manual</td>\n",
       "      <td>0</td>\n",
       "    </tr>\n",
       "    <tr>\n",
       "      <th>4</th>\n",
       "      <td>2014</td>\n",
       "      <td>4.60</td>\n",
       "      <td>6.87</td>\n",
       "      <td>42450</td>\n",
       "      <td>Diesel</td>\n",
       "      <td>Dealer</td>\n",
       "      <td>Manual</td>\n",
       "      <td>0</td>\n",
       "    </tr>\n",
       "  </tbody>\n",
       "</table>\n",
       "</div>"
      ],
      "text/plain": [
       "   Year  Selling_Price  Present_Price  Kms_Driven Fuel_Type Seller_Type  \\\n",
       "0  2014           3.35           5.59       27000    Petrol      Dealer   \n",
       "1  2013           4.75           9.54       43000    Diesel      Dealer   \n",
       "2  2017           7.25           9.85        6900    Petrol      Dealer   \n",
       "3  2011           2.85           4.15        5200    Petrol      Dealer   \n",
       "4  2014           4.60           6.87       42450    Diesel      Dealer   \n",
       "\n",
       "  Transmission  Owner  \n",
       "0       Manual      0  \n",
       "1       Manual      0  \n",
       "2       Manual      0  \n",
       "3       Manual      0  \n",
       "4       Manual      0  "
      ]
     },
     "execution_count": 10,
     "metadata": {},
     "output_type": "execute_result"
    }
   ],
   "source": [
    "final_dataset.head()"
   ]
  },
  {
   "cell_type": "code",
   "execution_count": 11,
   "metadata": {},
   "outputs": [],
   "source": [
    "final_dataset = df[['Year', 'Selling_Price', 'Present_Price', 'Kms_Driven',\n",
    "       'Fuel_Type', 'Seller_Type', 'Transmission', 'Owner']]"
   ]
  },
  {
   "cell_type": "code",
   "execution_count": 12,
   "metadata": {},
   "outputs": [
    {
     "data": {
      "text/html": [
       "<div>\n",
       "<style scoped>\n",
       "    .dataframe tbody tr th:only-of-type {\n",
       "        vertical-align: middle;\n",
       "    }\n",
       "\n",
       "    .dataframe tbody tr th {\n",
       "        vertical-align: top;\n",
       "    }\n",
       "\n",
       "    .dataframe thead th {\n",
       "        text-align: right;\n",
       "    }\n",
       "</style>\n",
       "<table border=\"1\" class=\"dataframe\">\n",
       "  <thead>\n",
       "    <tr style=\"text-align: right;\">\n",
       "      <th></th>\n",
       "      <th>Year</th>\n",
       "      <th>Selling_Price</th>\n",
       "      <th>Present_Price</th>\n",
       "      <th>Kms_Driven</th>\n",
       "      <th>Fuel_Type</th>\n",
       "      <th>Seller_Type</th>\n",
       "      <th>Transmission</th>\n",
       "      <th>Owner</th>\n",
       "    </tr>\n",
       "  </thead>\n",
       "  <tbody>\n",
       "    <tr>\n",
       "      <th>0</th>\n",
       "      <td>2014</td>\n",
       "      <td>3.35</td>\n",
       "      <td>5.59</td>\n",
       "      <td>27000</td>\n",
       "      <td>Petrol</td>\n",
       "      <td>Dealer</td>\n",
       "      <td>Manual</td>\n",
       "      <td>0</td>\n",
       "    </tr>\n",
       "    <tr>\n",
       "      <th>1</th>\n",
       "      <td>2013</td>\n",
       "      <td>4.75</td>\n",
       "      <td>9.54</td>\n",
       "      <td>43000</td>\n",
       "      <td>Diesel</td>\n",
       "      <td>Dealer</td>\n",
       "      <td>Manual</td>\n",
       "      <td>0</td>\n",
       "    </tr>\n",
       "    <tr>\n",
       "      <th>2</th>\n",
       "      <td>2017</td>\n",
       "      <td>7.25</td>\n",
       "      <td>9.85</td>\n",
       "      <td>6900</td>\n",
       "      <td>Petrol</td>\n",
       "      <td>Dealer</td>\n",
       "      <td>Manual</td>\n",
       "      <td>0</td>\n",
       "    </tr>\n",
       "    <tr>\n",
       "      <th>3</th>\n",
       "      <td>2011</td>\n",
       "      <td>2.85</td>\n",
       "      <td>4.15</td>\n",
       "      <td>5200</td>\n",
       "      <td>Petrol</td>\n",
       "      <td>Dealer</td>\n",
       "      <td>Manual</td>\n",
       "      <td>0</td>\n",
       "    </tr>\n",
       "    <tr>\n",
       "      <th>4</th>\n",
       "      <td>2014</td>\n",
       "      <td>4.60</td>\n",
       "      <td>6.87</td>\n",
       "      <td>42450</td>\n",
       "      <td>Diesel</td>\n",
       "      <td>Dealer</td>\n",
       "      <td>Manual</td>\n",
       "      <td>0</td>\n",
       "    </tr>\n",
       "  </tbody>\n",
       "</table>\n",
       "</div>"
      ],
      "text/plain": [
       "   Year  Selling_Price  Present_Price  Kms_Driven Fuel_Type Seller_Type  \\\n",
       "0  2014           3.35           5.59       27000    Petrol      Dealer   \n",
       "1  2013           4.75           9.54       43000    Diesel      Dealer   \n",
       "2  2017           7.25           9.85        6900    Petrol      Dealer   \n",
       "3  2011           2.85           4.15        5200    Petrol      Dealer   \n",
       "4  2014           4.60           6.87       42450    Diesel      Dealer   \n",
       "\n",
       "  Transmission  Owner  \n",
       "0       Manual      0  \n",
       "1       Manual      0  \n",
       "2       Manual      0  \n",
       "3       Manual      0  \n",
       "4       Manual      0  "
      ]
     },
     "execution_count": 12,
     "metadata": {},
     "output_type": "execute_result"
    }
   ],
   "source": [
    "final_dataset.head()"
   ]
  },
  {
   "cell_type": "code",
   "execution_count": 13,
   "metadata": {},
   "outputs": [],
   "source": [
    "final_dataset['Current_Year'] =2021"
   ]
  },
  {
   "cell_type": "code",
   "execution_count": 14,
   "metadata": {},
   "outputs": [
    {
     "data": {
      "text/html": [
       "<div>\n",
       "<style scoped>\n",
       "    .dataframe tbody tr th:only-of-type {\n",
       "        vertical-align: middle;\n",
       "    }\n",
       "\n",
       "    .dataframe tbody tr th {\n",
       "        vertical-align: top;\n",
       "    }\n",
       "\n",
       "    .dataframe thead th {\n",
       "        text-align: right;\n",
       "    }\n",
       "</style>\n",
       "<table border=\"1\" class=\"dataframe\">\n",
       "  <thead>\n",
       "    <tr style=\"text-align: right;\">\n",
       "      <th></th>\n",
       "      <th>Year</th>\n",
       "      <th>Selling_Price</th>\n",
       "      <th>Present_Price</th>\n",
       "      <th>Kms_Driven</th>\n",
       "      <th>Fuel_Type</th>\n",
       "      <th>Seller_Type</th>\n",
       "      <th>Transmission</th>\n",
       "      <th>Owner</th>\n",
       "      <th>Current_Year</th>\n",
       "    </tr>\n",
       "  </thead>\n",
       "  <tbody>\n",
       "    <tr>\n",
       "      <th>0</th>\n",
       "      <td>2014</td>\n",
       "      <td>3.35</td>\n",
       "      <td>5.59</td>\n",
       "      <td>27000</td>\n",
       "      <td>Petrol</td>\n",
       "      <td>Dealer</td>\n",
       "      <td>Manual</td>\n",
       "      <td>0</td>\n",
       "      <td>2021</td>\n",
       "    </tr>\n",
       "    <tr>\n",
       "      <th>1</th>\n",
       "      <td>2013</td>\n",
       "      <td>4.75</td>\n",
       "      <td>9.54</td>\n",
       "      <td>43000</td>\n",
       "      <td>Diesel</td>\n",
       "      <td>Dealer</td>\n",
       "      <td>Manual</td>\n",
       "      <td>0</td>\n",
       "      <td>2021</td>\n",
       "    </tr>\n",
       "    <tr>\n",
       "      <th>2</th>\n",
       "      <td>2017</td>\n",
       "      <td>7.25</td>\n",
       "      <td>9.85</td>\n",
       "      <td>6900</td>\n",
       "      <td>Petrol</td>\n",
       "      <td>Dealer</td>\n",
       "      <td>Manual</td>\n",
       "      <td>0</td>\n",
       "      <td>2021</td>\n",
       "    </tr>\n",
       "    <tr>\n",
       "      <th>3</th>\n",
       "      <td>2011</td>\n",
       "      <td>2.85</td>\n",
       "      <td>4.15</td>\n",
       "      <td>5200</td>\n",
       "      <td>Petrol</td>\n",
       "      <td>Dealer</td>\n",
       "      <td>Manual</td>\n",
       "      <td>0</td>\n",
       "      <td>2021</td>\n",
       "    </tr>\n",
       "    <tr>\n",
       "      <th>4</th>\n",
       "      <td>2014</td>\n",
       "      <td>4.60</td>\n",
       "      <td>6.87</td>\n",
       "      <td>42450</td>\n",
       "      <td>Diesel</td>\n",
       "      <td>Dealer</td>\n",
       "      <td>Manual</td>\n",
       "      <td>0</td>\n",
       "      <td>2021</td>\n",
       "    </tr>\n",
       "  </tbody>\n",
       "</table>\n",
       "</div>"
      ],
      "text/plain": [
       "   Year  Selling_Price  Present_Price  Kms_Driven Fuel_Type Seller_Type  \\\n",
       "0  2014           3.35           5.59       27000    Petrol      Dealer   \n",
       "1  2013           4.75           9.54       43000    Diesel      Dealer   \n",
       "2  2017           7.25           9.85        6900    Petrol      Dealer   \n",
       "3  2011           2.85           4.15        5200    Petrol      Dealer   \n",
       "4  2014           4.60           6.87       42450    Diesel      Dealer   \n",
       "\n",
       "  Transmission  Owner  Current_Year  \n",
       "0       Manual      0          2021  \n",
       "1       Manual      0          2021  \n",
       "2       Manual      0          2021  \n",
       "3       Manual      0          2021  \n",
       "4       Manual      0          2021  "
      ]
     },
     "execution_count": 14,
     "metadata": {},
     "output_type": "execute_result"
    }
   ],
   "source": [
    "final_dataset.head()"
   ]
  },
  {
   "cell_type": "markdown",
   "metadata": {},
   "source": [
    "#### Here we are subtracting current year and year of production of car to get no of years of a car. This step is for the feature extraction.  "
   ]
  },
  {
   "cell_type": "code",
   "execution_count": 15,
   "metadata": {},
   "outputs": [],
   "source": [
    "final_dataset['No_Of_year'] = final_dataset['Current_Year']-final_dataset['Year']"
   ]
  },
  {
   "cell_type": "code",
   "execution_count": 16,
   "metadata": {},
   "outputs": [
    {
     "data": {
      "text/html": [
       "<div>\n",
       "<style scoped>\n",
       "    .dataframe tbody tr th:only-of-type {\n",
       "        vertical-align: middle;\n",
       "    }\n",
       "\n",
       "    .dataframe tbody tr th {\n",
       "        vertical-align: top;\n",
       "    }\n",
       "\n",
       "    .dataframe thead th {\n",
       "        text-align: right;\n",
       "    }\n",
       "</style>\n",
       "<table border=\"1\" class=\"dataframe\">\n",
       "  <thead>\n",
       "    <tr style=\"text-align: right;\">\n",
       "      <th></th>\n",
       "      <th>Year</th>\n",
       "      <th>Selling_Price</th>\n",
       "      <th>Present_Price</th>\n",
       "      <th>Kms_Driven</th>\n",
       "      <th>Fuel_Type</th>\n",
       "      <th>Seller_Type</th>\n",
       "      <th>Transmission</th>\n",
       "      <th>Owner</th>\n",
       "      <th>Current_Year</th>\n",
       "      <th>No_Of_year</th>\n",
       "    </tr>\n",
       "  </thead>\n",
       "  <tbody>\n",
       "    <tr>\n",
       "      <th>0</th>\n",
       "      <td>2014</td>\n",
       "      <td>3.35</td>\n",
       "      <td>5.59</td>\n",
       "      <td>27000</td>\n",
       "      <td>Petrol</td>\n",
       "      <td>Dealer</td>\n",
       "      <td>Manual</td>\n",
       "      <td>0</td>\n",
       "      <td>2021</td>\n",
       "      <td>7</td>\n",
       "    </tr>\n",
       "    <tr>\n",
       "      <th>1</th>\n",
       "      <td>2013</td>\n",
       "      <td>4.75</td>\n",
       "      <td>9.54</td>\n",
       "      <td>43000</td>\n",
       "      <td>Diesel</td>\n",
       "      <td>Dealer</td>\n",
       "      <td>Manual</td>\n",
       "      <td>0</td>\n",
       "      <td>2021</td>\n",
       "      <td>8</td>\n",
       "    </tr>\n",
       "    <tr>\n",
       "      <th>2</th>\n",
       "      <td>2017</td>\n",
       "      <td>7.25</td>\n",
       "      <td>9.85</td>\n",
       "      <td>6900</td>\n",
       "      <td>Petrol</td>\n",
       "      <td>Dealer</td>\n",
       "      <td>Manual</td>\n",
       "      <td>0</td>\n",
       "      <td>2021</td>\n",
       "      <td>4</td>\n",
       "    </tr>\n",
       "    <tr>\n",
       "      <th>3</th>\n",
       "      <td>2011</td>\n",
       "      <td>2.85</td>\n",
       "      <td>4.15</td>\n",
       "      <td>5200</td>\n",
       "      <td>Petrol</td>\n",
       "      <td>Dealer</td>\n",
       "      <td>Manual</td>\n",
       "      <td>0</td>\n",
       "      <td>2021</td>\n",
       "      <td>10</td>\n",
       "    </tr>\n",
       "    <tr>\n",
       "      <th>4</th>\n",
       "      <td>2014</td>\n",
       "      <td>4.60</td>\n",
       "      <td>6.87</td>\n",
       "      <td>42450</td>\n",
       "      <td>Diesel</td>\n",
       "      <td>Dealer</td>\n",
       "      <td>Manual</td>\n",
       "      <td>0</td>\n",
       "      <td>2021</td>\n",
       "      <td>7</td>\n",
       "    </tr>\n",
       "  </tbody>\n",
       "</table>\n",
       "</div>"
      ],
      "text/plain": [
       "   Year  Selling_Price  Present_Price  Kms_Driven Fuel_Type Seller_Type  \\\n",
       "0  2014           3.35           5.59       27000    Petrol      Dealer   \n",
       "1  2013           4.75           9.54       43000    Diesel      Dealer   \n",
       "2  2017           7.25           9.85        6900    Petrol      Dealer   \n",
       "3  2011           2.85           4.15        5200    Petrol      Dealer   \n",
       "4  2014           4.60           6.87       42450    Diesel      Dealer   \n",
       "\n",
       "  Transmission  Owner  Current_Year  No_Of_year  \n",
       "0       Manual      0          2021           7  \n",
       "1       Manual      0          2021           8  \n",
       "2       Manual      0          2021           4  \n",
       "3       Manual      0          2021          10  \n",
       "4       Manual      0          2021           7  "
      ]
     },
     "execution_count": 16,
     "metadata": {},
     "output_type": "execute_result"
    }
   ],
   "source": [
    "final_dataset.head()"
   ]
  },
  {
   "cell_type": "code",
   "execution_count": 17,
   "metadata": {},
   "outputs": [],
   "source": [
    "final_dataset.drop(['Year'],axis=1,inplace=True)"
   ]
  },
  {
   "cell_type": "code",
   "execution_count": 18,
   "metadata": {},
   "outputs": [
    {
     "data": {
      "text/html": [
       "<div>\n",
       "<style scoped>\n",
       "    .dataframe tbody tr th:only-of-type {\n",
       "        vertical-align: middle;\n",
       "    }\n",
       "\n",
       "    .dataframe tbody tr th {\n",
       "        vertical-align: top;\n",
       "    }\n",
       "\n",
       "    .dataframe thead th {\n",
       "        text-align: right;\n",
       "    }\n",
       "</style>\n",
       "<table border=\"1\" class=\"dataframe\">\n",
       "  <thead>\n",
       "    <tr style=\"text-align: right;\">\n",
       "      <th></th>\n",
       "      <th>Selling_Price</th>\n",
       "      <th>Present_Price</th>\n",
       "      <th>Kms_Driven</th>\n",
       "      <th>Fuel_Type</th>\n",
       "      <th>Seller_Type</th>\n",
       "      <th>Transmission</th>\n",
       "      <th>Owner</th>\n",
       "      <th>Current_Year</th>\n",
       "      <th>No_Of_year</th>\n",
       "    </tr>\n",
       "  </thead>\n",
       "  <tbody>\n",
       "    <tr>\n",
       "      <th>0</th>\n",
       "      <td>3.35</td>\n",
       "      <td>5.59</td>\n",
       "      <td>27000</td>\n",
       "      <td>Petrol</td>\n",
       "      <td>Dealer</td>\n",
       "      <td>Manual</td>\n",
       "      <td>0</td>\n",
       "      <td>2021</td>\n",
       "      <td>7</td>\n",
       "    </tr>\n",
       "    <tr>\n",
       "      <th>1</th>\n",
       "      <td>4.75</td>\n",
       "      <td>9.54</td>\n",
       "      <td>43000</td>\n",
       "      <td>Diesel</td>\n",
       "      <td>Dealer</td>\n",
       "      <td>Manual</td>\n",
       "      <td>0</td>\n",
       "      <td>2021</td>\n",
       "      <td>8</td>\n",
       "    </tr>\n",
       "    <tr>\n",
       "      <th>2</th>\n",
       "      <td>7.25</td>\n",
       "      <td>9.85</td>\n",
       "      <td>6900</td>\n",
       "      <td>Petrol</td>\n",
       "      <td>Dealer</td>\n",
       "      <td>Manual</td>\n",
       "      <td>0</td>\n",
       "      <td>2021</td>\n",
       "      <td>4</td>\n",
       "    </tr>\n",
       "    <tr>\n",
       "      <th>3</th>\n",
       "      <td>2.85</td>\n",
       "      <td>4.15</td>\n",
       "      <td>5200</td>\n",
       "      <td>Petrol</td>\n",
       "      <td>Dealer</td>\n",
       "      <td>Manual</td>\n",
       "      <td>0</td>\n",
       "      <td>2021</td>\n",
       "      <td>10</td>\n",
       "    </tr>\n",
       "    <tr>\n",
       "      <th>4</th>\n",
       "      <td>4.60</td>\n",
       "      <td>6.87</td>\n",
       "      <td>42450</td>\n",
       "      <td>Diesel</td>\n",
       "      <td>Dealer</td>\n",
       "      <td>Manual</td>\n",
       "      <td>0</td>\n",
       "      <td>2021</td>\n",
       "      <td>7</td>\n",
       "    </tr>\n",
       "  </tbody>\n",
       "</table>\n",
       "</div>"
      ],
      "text/plain": [
       "   Selling_Price  Present_Price  Kms_Driven Fuel_Type Seller_Type  \\\n",
       "0           3.35           5.59       27000    Petrol      Dealer   \n",
       "1           4.75           9.54       43000    Diesel      Dealer   \n",
       "2           7.25           9.85        6900    Petrol      Dealer   \n",
       "3           2.85           4.15        5200    Petrol      Dealer   \n",
       "4           4.60           6.87       42450    Diesel      Dealer   \n",
       "\n",
       "  Transmission  Owner  Current_Year  No_Of_year  \n",
       "0       Manual      0          2021           7  \n",
       "1       Manual      0          2021           8  \n",
       "2       Manual      0          2021           4  \n",
       "3       Manual      0          2021          10  \n",
       "4       Manual      0          2021           7  "
      ]
     },
     "execution_count": 18,
     "metadata": {},
     "output_type": "execute_result"
    }
   ],
   "source": [
    "final_dataset.head()"
   ]
  },
  {
   "cell_type": "code",
   "execution_count": 19,
   "metadata": {},
   "outputs": [],
   "source": [
    "final_dataset.drop(['Current_Year'],axis=1,inplace=True)"
   ]
  },
  {
   "cell_type": "code",
   "execution_count": 20,
   "metadata": {},
   "outputs": [
    {
     "data": {
      "text/html": [
       "<div>\n",
       "<style scoped>\n",
       "    .dataframe tbody tr th:only-of-type {\n",
       "        vertical-align: middle;\n",
       "    }\n",
       "\n",
       "    .dataframe tbody tr th {\n",
       "        vertical-align: top;\n",
       "    }\n",
       "\n",
       "    .dataframe thead th {\n",
       "        text-align: right;\n",
       "    }\n",
       "</style>\n",
       "<table border=\"1\" class=\"dataframe\">\n",
       "  <thead>\n",
       "    <tr style=\"text-align: right;\">\n",
       "      <th></th>\n",
       "      <th>Selling_Price</th>\n",
       "      <th>Present_Price</th>\n",
       "      <th>Kms_Driven</th>\n",
       "      <th>Fuel_Type</th>\n",
       "      <th>Seller_Type</th>\n",
       "      <th>Transmission</th>\n",
       "      <th>Owner</th>\n",
       "      <th>No_Of_year</th>\n",
       "    </tr>\n",
       "  </thead>\n",
       "  <tbody>\n",
       "    <tr>\n",
       "      <th>0</th>\n",
       "      <td>3.35</td>\n",
       "      <td>5.59</td>\n",
       "      <td>27000</td>\n",
       "      <td>Petrol</td>\n",
       "      <td>Dealer</td>\n",
       "      <td>Manual</td>\n",
       "      <td>0</td>\n",
       "      <td>7</td>\n",
       "    </tr>\n",
       "    <tr>\n",
       "      <th>1</th>\n",
       "      <td>4.75</td>\n",
       "      <td>9.54</td>\n",
       "      <td>43000</td>\n",
       "      <td>Diesel</td>\n",
       "      <td>Dealer</td>\n",
       "      <td>Manual</td>\n",
       "      <td>0</td>\n",
       "      <td>8</td>\n",
       "    </tr>\n",
       "    <tr>\n",
       "      <th>2</th>\n",
       "      <td>7.25</td>\n",
       "      <td>9.85</td>\n",
       "      <td>6900</td>\n",
       "      <td>Petrol</td>\n",
       "      <td>Dealer</td>\n",
       "      <td>Manual</td>\n",
       "      <td>0</td>\n",
       "      <td>4</td>\n",
       "    </tr>\n",
       "    <tr>\n",
       "      <th>3</th>\n",
       "      <td>2.85</td>\n",
       "      <td>4.15</td>\n",
       "      <td>5200</td>\n",
       "      <td>Petrol</td>\n",
       "      <td>Dealer</td>\n",
       "      <td>Manual</td>\n",
       "      <td>0</td>\n",
       "      <td>10</td>\n",
       "    </tr>\n",
       "    <tr>\n",
       "      <th>4</th>\n",
       "      <td>4.60</td>\n",
       "      <td>6.87</td>\n",
       "      <td>42450</td>\n",
       "      <td>Diesel</td>\n",
       "      <td>Dealer</td>\n",
       "      <td>Manual</td>\n",
       "      <td>0</td>\n",
       "      <td>7</td>\n",
       "    </tr>\n",
       "  </tbody>\n",
       "</table>\n",
       "</div>"
      ],
      "text/plain": [
       "   Selling_Price  Present_Price  Kms_Driven Fuel_Type Seller_Type  \\\n",
       "0           3.35           5.59       27000    Petrol      Dealer   \n",
       "1           4.75           9.54       43000    Diesel      Dealer   \n",
       "2           7.25           9.85        6900    Petrol      Dealer   \n",
       "3           2.85           4.15        5200    Petrol      Dealer   \n",
       "4           4.60           6.87       42450    Diesel      Dealer   \n",
       "\n",
       "  Transmission  Owner  No_Of_year  \n",
       "0       Manual      0           7  \n",
       "1       Manual      0           8  \n",
       "2       Manual      0           4  \n",
       "3       Manual      0          10  \n",
       "4       Manual      0           7  "
      ]
     },
     "execution_count": 20,
     "metadata": {},
     "output_type": "execute_result"
    }
   ],
   "source": [
    "final_dataset.head()\n"
   ]
  },
  {
   "cell_type": "code",
   "execution_count": 21,
   "metadata": {},
   "outputs": [],
   "source": [
    "final_dataset = pd.get_dummies(final_dataset,drop_first=True)"
   ]
  },
  {
   "cell_type": "code",
   "execution_count": 22,
   "metadata": {},
   "outputs": [
    {
     "data": {
      "text/html": [
       "<div>\n",
       "<style scoped>\n",
       "    .dataframe tbody tr th:only-of-type {\n",
       "        vertical-align: middle;\n",
       "    }\n",
       "\n",
       "    .dataframe tbody tr th {\n",
       "        vertical-align: top;\n",
       "    }\n",
       "\n",
       "    .dataframe thead th {\n",
       "        text-align: right;\n",
       "    }\n",
       "</style>\n",
       "<table border=\"1\" class=\"dataframe\">\n",
       "  <thead>\n",
       "    <tr style=\"text-align: right;\">\n",
       "      <th></th>\n",
       "      <th>Selling_Price</th>\n",
       "      <th>Present_Price</th>\n",
       "      <th>Kms_Driven</th>\n",
       "      <th>Owner</th>\n",
       "      <th>No_Of_year</th>\n",
       "      <th>Fuel_Type_Diesel</th>\n",
       "      <th>Fuel_Type_Petrol</th>\n",
       "      <th>Seller_Type_Individual</th>\n",
       "      <th>Transmission_Manual</th>\n",
       "    </tr>\n",
       "  </thead>\n",
       "  <tbody>\n",
       "    <tr>\n",
       "      <th>0</th>\n",
       "      <td>3.35</td>\n",
       "      <td>5.59</td>\n",
       "      <td>27000</td>\n",
       "      <td>0</td>\n",
       "      <td>7</td>\n",
       "      <td>0</td>\n",
       "      <td>1</td>\n",
       "      <td>0</td>\n",
       "      <td>1</td>\n",
       "    </tr>\n",
       "    <tr>\n",
       "      <th>1</th>\n",
       "      <td>4.75</td>\n",
       "      <td>9.54</td>\n",
       "      <td>43000</td>\n",
       "      <td>0</td>\n",
       "      <td>8</td>\n",
       "      <td>1</td>\n",
       "      <td>0</td>\n",
       "      <td>0</td>\n",
       "      <td>1</td>\n",
       "    </tr>\n",
       "    <tr>\n",
       "      <th>2</th>\n",
       "      <td>7.25</td>\n",
       "      <td>9.85</td>\n",
       "      <td>6900</td>\n",
       "      <td>0</td>\n",
       "      <td>4</td>\n",
       "      <td>0</td>\n",
       "      <td>1</td>\n",
       "      <td>0</td>\n",
       "      <td>1</td>\n",
       "    </tr>\n",
       "    <tr>\n",
       "      <th>3</th>\n",
       "      <td>2.85</td>\n",
       "      <td>4.15</td>\n",
       "      <td>5200</td>\n",
       "      <td>0</td>\n",
       "      <td>10</td>\n",
       "      <td>0</td>\n",
       "      <td>1</td>\n",
       "      <td>0</td>\n",
       "      <td>1</td>\n",
       "    </tr>\n",
       "    <tr>\n",
       "      <th>4</th>\n",
       "      <td>4.60</td>\n",
       "      <td>6.87</td>\n",
       "      <td>42450</td>\n",
       "      <td>0</td>\n",
       "      <td>7</td>\n",
       "      <td>1</td>\n",
       "      <td>0</td>\n",
       "      <td>0</td>\n",
       "      <td>1</td>\n",
       "    </tr>\n",
       "    <tr>\n",
       "      <th>...</th>\n",
       "      <td>...</td>\n",
       "      <td>...</td>\n",
       "      <td>...</td>\n",
       "      <td>...</td>\n",
       "      <td>...</td>\n",
       "      <td>...</td>\n",
       "      <td>...</td>\n",
       "      <td>...</td>\n",
       "      <td>...</td>\n",
       "    </tr>\n",
       "    <tr>\n",
       "      <th>296</th>\n",
       "      <td>9.50</td>\n",
       "      <td>11.60</td>\n",
       "      <td>33988</td>\n",
       "      <td>0</td>\n",
       "      <td>5</td>\n",
       "      <td>1</td>\n",
       "      <td>0</td>\n",
       "      <td>0</td>\n",
       "      <td>1</td>\n",
       "    </tr>\n",
       "    <tr>\n",
       "      <th>297</th>\n",
       "      <td>4.00</td>\n",
       "      <td>5.90</td>\n",
       "      <td>60000</td>\n",
       "      <td>0</td>\n",
       "      <td>6</td>\n",
       "      <td>0</td>\n",
       "      <td>1</td>\n",
       "      <td>0</td>\n",
       "      <td>1</td>\n",
       "    </tr>\n",
       "    <tr>\n",
       "      <th>298</th>\n",
       "      <td>3.35</td>\n",
       "      <td>11.00</td>\n",
       "      <td>87934</td>\n",
       "      <td>0</td>\n",
       "      <td>12</td>\n",
       "      <td>0</td>\n",
       "      <td>1</td>\n",
       "      <td>0</td>\n",
       "      <td>1</td>\n",
       "    </tr>\n",
       "    <tr>\n",
       "      <th>299</th>\n",
       "      <td>11.50</td>\n",
       "      <td>12.50</td>\n",
       "      <td>9000</td>\n",
       "      <td>0</td>\n",
       "      <td>4</td>\n",
       "      <td>1</td>\n",
       "      <td>0</td>\n",
       "      <td>0</td>\n",
       "      <td>1</td>\n",
       "    </tr>\n",
       "    <tr>\n",
       "      <th>300</th>\n",
       "      <td>5.30</td>\n",
       "      <td>5.90</td>\n",
       "      <td>5464</td>\n",
       "      <td>0</td>\n",
       "      <td>5</td>\n",
       "      <td>0</td>\n",
       "      <td>1</td>\n",
       "      <td>0</td>\n",
       "      <td>1</td>\n",
       "    </tr>\n",
       "  </tbody>\n",
       "</table>\n",
       "<p>301 rows × 9 columns</p>\n",
       "</div>"
      ],
      "text/plain": [
       "     Selling_Price  Present_Price  Kms_Driven  Owner  No_Of_year  \\\n",
       "0             3.35           5.59       27000      0           7   \n",
       "1             4.75           9.54       43000      0           8   \n",
       "2             7.25           9.85        6900      0           4   \n",
       "3             2.85           4.15        5200      0          10   \n",
       "4             4.60           6.87       42450      0           7   \n",
       "..             ...            ...         ...    ...         ...   \n",
       "296           9.50          11.60       33988      0           5   \n",
       "297           4.00           5.90       60000      0           6   \n",
       "298           3.35          11.00       87934      0          12   \n",
       "299          11.50          12.50        9000      0           4   \n",
       "300           5.30           5.90        5464      0           5   \n",
       "\n",
       "     Fuel_Type_Diesel  Fuel_Type_Petrol  Seller_Type_Individual  \\\n",
       "0                   0                 1                       0   \n",
       "1                   1                 0                       0   \n",
       "2                   0                 1                       0   \n",
       "3                   0                 1                       0   \n",
       "4                   1                 0                       0   \n",
       "..                ...               ...                     ...   \n",
       "296                 1                 0                       0   \n",
       "297                 0                 1                       0   \n",
       "298                 0                 1                       0   \n",
       "299                 1                 0                       0   \n",
       "300                 0                 1                       0   \n",
       "\n",
       "     Transmission_Manual  \n",
       "0                      1  \n",
       "1                      1  \n",
       "2                      1  \n",
       "3                      1  \n",
       "4                      1  \n",
       "..                   ...  \n",
       "296                    1  \n",
       "297                    1  \n",
       "298                    1  \n",
       "299                    1  \n",
       "300                    1  \n",
       "\n",
       "[301 rows x 9 columns]"
      ]
     },
     "execution_count": 22,
     "metadata": {},
     "output_type": "execute_result"
    }
   ],
   "source": [
    "final_dataset"
   ]
  },
  {
   "cell_type": "code",
   "execution_count": 23,
   "metadata": {},
   "outputs": [
    {
     "data": {
      "text/html": [
       "<div>\n",
       "<style scoped>\n",
       "    .dataframe tbody tr th:only-of-type {\n",
       "        vertical-align: middle;\n",
       "    }\n",
       "\n",
       "    .dataframe tbody tr th {\n",
       "        vertical-align: top;\n",
       "    }\n",
       "\n",
       "    .dataframe thead th {\n",
       "        text-align: right;\n",
       "    }\n",
       "</style>\n",
       "<table border=\"1\" class=\"dataframe\">\n",
       "  <thead>\n",
       "    <tr style=\"text-align: right;\">\n",
       "      <th></th>\n",
       "      <th>Selling_Price</th>\n",
       "      <th>Present_Price</th>\n",
       "      <th>Kms_Driven</th>\n",
       "      <th>Owner</th>\n",
       "      <th>No_Of_year</th>\n",
       "      <th>Fuel_Type_Diesel</th>\n",
       "      <th>Fuel_Type_Petrol</th>\n",
       "      <th>Seller_Type_Individual</th>\n",
       "      <th>Transmission_Manual</th>\n",
       "    </tr>\n",
       "  </thead>\n",
       "  <tbody>\n",
       "    <tr>\n",
       "      <th>0</th>\n",
       "      <td>3.35</td>\n",
       "      <td>5.59</td>\n",
       "      <td>27000</td>\n",
       "      <td>0</td>\n",
       "      <td>7</td>\n",
       "      <td>0</td>\n",
       "      <td>1</td>\n",
       "      <td>0</td>\n",
       "      <td>1</td>\n",
       "    </tr>\n",
       "    <tr>\n",
       "      <th>1</th>\n",
       "      <td>4.75</td>\n",
       "      <td>9.54</td>\n",
       "      <td>43000</td>\n",
       "      <td>0</td>\n",
       "      <td>8</td>\n",
       "      <td>1</td>\n",
       "      <td>0</td>\n",
       "      <td>0</td>\n",
       "      <td>1</td>\n",
       "    </tr>\n",
       "    <tr>\n",
       "      <th>2</th>\n",
       "      <td>7.25</td>\n",
       "      <td>9.85</td>\n",
       "      <td>6900</td>\n",
       "      <td>0</td>\n",
       "      <td>4</td>\n",
       "      <td>0</td>\n",
       "      <td>1</td>\n",
       "      <td>0</td>\n",
       "      <td>1</td>\n",
       "    </tr>\n",
       "    <tr>\n",
       "      <th>3</th>\n",
       "      <td>2.85</td>\n",
       "      <td>4.15</td>\n",
       "      <td>5200</td>\n",
       "      <td>0</td>\n",
       "      <td>10</td>\n",
       "      <td>0</td>\n",
       "      <td>1</td>\n",
       "      <td>0</td>\n",
       "      <td>1</td>\n",
       "    </tr>\n",
       "    <tr>\n",
       "      <th>4</th>\n",
       "      <td>4.60</td>\n",
       "      <td>6.87</td>\n",
       "      <td>42450</td>\n",
       "      <td>0</td>\n",
       "      <td>7</td>\n",
       "      <td>1</td>\n",
       "      <td>0</td>\n",
       "      <td>0</td>\n",
       "      <td>1</td>\n",
       "    </tr>\n",
       "  </tbody>\n",
       "</table>\n",
       "</div>"
      ],
      "text/plain": [
       "   Selling_Price  Present_Price  Kms_Driven  Owner  No_Of_year  \\\n",
       "0           3.35           5.59       27000      0           7   \n",
       "1           4.75           9.54       43000      0           8   \n",
       "2           7.25           9.85        6900      0           4   \n",
       "3           2.85           4.15        5200      0          10   \n",
       "4           4.60           6.87       42450      0           7   \n",
       "\n",
       "   Fuel_Type_Diesel  Fuel_Type_Petrol  Seller_Type_Individual  \\\n",
       "0                 0                 1                       0   \n",
       "1                 1                 0                       0   \n",
       "2                 0                 1                       0   \n",
       "3                 0                 1                       0   \n",
       "4                 1                 0                       0   \n",
       "\n",
       "   Transmission_Manual  \n",
       "0                    1  \n",
       "1                    1  \n",
       "2                    1  \n",
       "3                    1  \n",
       "4                    1  "
      ]
     },
     "execution_count": 23,
     "metadata": {},
     "output_type": "execute_result"
    }
   ],
   "source": [
    "final_dataset.head()"
   ]
  },
  {
   "cell_type": "markdown",
   "metadata": {},
   "source": [
    "## Feature Correlation: \n",
    "Importance is for finding the best dependent features useful for prediction of car price "
   ]
  },
  {
   "cell_type": "code",
   "execution_count": 24,
   "metadata": {},
   "outputs": [
    {
     "data": {
      "text/html": [
       "<div>\n",
       "<style scoped>\n",
       "    .dataframe tbody tr th:only-of-type {\n",
       "        vertical-align: middle;\n",
       "    }\n",
       "\n",
       "    .dataframe tbody tr th {\n",
       "        vertical-align: top;\n",
       "    }\n",
       "\n",
       "    .dataframe thead th {\n",
       "        text-align: right;\n",
       "    }\n",
       "</style>\n",
       "<table border=\"1\" class=\"dataframe\">\n",
       "  <thead>\n",
       "    <tr style=\"text-align: right;\">\n",
       "      <th></th>\n",
       "      <th>Selling_Price</th>\n",
       "      <th>Present_Price</th>\n",
       "      <th>Kms_Driven</th>\n",
       "      <th>Owner</th>\n",
       "      <th>No_Of_year</th>\n",
       "      <th>Fuel_Type_Diesel</th>\n",
       "      <th>Fuel_Type_Petrol</th>\n",
       "      <th>Seller_Type_Individual</th>\n",
       "      <th>Transmission_Manual</th>\n",
       "    </tr>\n",
       "  </thead>\n",
       "  <tbody>\n",
       "    <tr>\n",
       "      <th>Selling_Price</th>\n",
       "      <td>1.000000</td>\n",
       "      <td>0.878983</td>\n",
       "      <td>0.029187</td>\n",
       "      <td>-0.088344</td>\n",
       "      <td>-0.236141</td>\n",
       "      <td>0.552339</td>\n",
       "      <td>-0.540571</td>\n",
       "      <td>-0.550724</td>\n",
       "      <td>-0.367128</td>\n",
       "    </tr>\n",
       "    <tr>\n",
       "      <th>Present_Price</th>\n",
       "      <td>0.878983</td>\n",
       "      <td>1.000000</td>\n",
       "      <td>0.203647</td>\n",
       "      <td>0.008057</td>\n",
       "      <td>0.047584</td>\n",
       "      <td>0.473306</td>\n",
       "      <td>-0.465244</td>\n",
       "      <td>-0.512030</td>\n",
       "      <td>-0.348715</td>\n",
       "    </tr>\n",
       "    <tr>\n",
       "      <th>Kms_Driven</th>\n",
       "      <td>0.029187</td>\n",
       "      <td>0.203647</td>\n",
       "      <td>1.000000</td>\n",
       "      <td>0.089216</td>\n",
       "      <td>0.524342</td>\n",
       "      <td>0.172515</td>\n",
       "      <td>-0.172874</td>\n",
       "      <td>-0.101419</td>\n",
       "      <td>-0.162510</td>\n",
       "    </tr>\n",
       "    <tr>\n",
       "      <th>Owner</th>\n",
       "      <td>-0.088344</td>\n",
       "      <td>0.008057</td>\n",
       "      <td>0.089216</td>\n",
       "      <td>1.000000</td>\n",
       "      <td>0.182104</td>\n",
       "      <td>-0.053469</td>\n",
       "      <td>0.055687</td>\n",
       "      <td>0.124269</td>\n",
       "      <td>-0.050316</td>\n",
       "    </tr>\n",
       "    <tr>\n",
       "      <th>No_Of_year</th>\n",
       "      <td>-0.236141</td>\n",
       "      <td>0.047584</td>\n",
       "      <td>0.524342</td>\n",
       "      <td>0.182104</td>\n",
       "      <td>1.000000</td>\n",
       "      <td>-0.064315</td>\n",
       "      <td>0.059959</td>\n",
       "      <td>0.039896</td>\n",
       "      <td>-0.000394</td>\n",
       "    </tr>\n",
       "    <tr>\n",
       "      <th>Fuel_Type_Diesel</th>\n",
       "      <td>0.552339</td>\n",
       "      <td>0.473306</td>\n",
       "      <td>0.172515</td>\n",
       "      <td>-0.053469</td>\n",
       "      <td>-0.064315</td>\n",
       "      <td>1.000000</td>\n",
       "      <td>-0.979648</td>\n",
       "      <td>-0.350467</td>\n",
       "      <td>-0.098643</td>\n",
       "    </tr>\n",
       "    <tr>\n",
       "      <th>Fuel_Type_Petrol</th>\n",
       "      <td>-0.540571</td>\n",
       "      <td>-0.465244</td>\n",
       "      <td>-0.172874</td>\n",
       "      <td>0.055687</td>\n",
       "      <td>0.059959</td>\n",
       "      <td>-0.979648</td>\n",
       "      <td>1.000000</td>\n",
       "      <td>0.358321</td>\n",
       "      <td>0.091013</td>\n",
       "    </tr>\n",
       "    <tr>\n",
       "      <th>Seller_Type_Individual</th>\n",
       "      <td>-0.550724</td>\n",
       "      <td>-0.512030</td>\n",
       "      <td>-0.101419</td>\n",
       "      <td>0.124269</td>\n",
       "      <td>0.039896</td>\n",
       "      <td>-0.350467</td>\n",
       "      <td>0.358321</td>\n",
       "      <td>1.000000</td>\n",
       "      <td>0.063240</td>\n",
       "    </tr>\n",
       "    <tr>\n",
       "      <th>Transmission_Manual</th>\n",
       "      <td>-0.367128</td>\n",
       "      <td>-0.348715</td>\n",
       "      <td>-0.162510</td>\n",
       "      <td>-0.050316</td>\n",
       "      <td>-0.000394</td>\n",
       "      <td>-0.098643</td>\n",
       "      <td>0.091013</td>\n",
       "      <td>0.063240</td>\n",
       "      <td>1.000000</td>\n",
       "    </tr>\n",
       "  </tbody>\n",
       "</table>\n",
       "</div>"
      ],
      "text/plain": [
       "                        Selling_Price  Present_Price  Kms_Driven     Owner  \\\n",
       "Selling_Price                1.000000       0.878983    0.029187 -0.088344   \n",
       "Present_Price                0.878983       1.000000    0.203647  0.008057   \n",
       "Kms_Driven                   0.029187       0.203647    1.000000  0.089216   \n",
       "Owner                       -0.088344       0.008057    0.089216  1.000000   \n",
       "No_Of_year                  -0.236141       0.047584    0.524342  0.182104   \n",
       "Fuel_Type_Diesel             0.552339       0.473306    0.172515 -0.053469   \n",
       "Fuel_Type_Petrol            -0.540571      -0.465244   -0.172874  0.055687   \n",
       "Seller_Type_Individual      -0.550724      -0.512030   -0.101419  0.124269   \n",
       "Transmission_Manual         -0.367128      -0.348715   -0.162510 -0.050316   \n",
       "\n",
       "                        No_Of_year  Fuel_Type_Diesel  Fuel_Type_Petrol  \\\n",
       "Selling_Price            -0.236141          0.552339         -0.540571   \n",
       "Present_Price             0.047584          0.473306         -0.465244   \n",
       "Kms_Driven                0.524342          0.172515         -0.172874   \n",
       "Owner                     0.182104         -0.053469          0.055687   \n",
       "No_Of_year                1.000000         -0.064315          0.059959   \n",
       "Fuel_Type_Diesel         -0.064315          1.000000         -0.979648   \n",
       "Fuel_Type_Petrol          0.059959         -0.979648          1.000000   \n",
       "Seller_Type_Individual    0.039896         -0.350467          0.358321   \n",
       "Transmission_Manual      -0.000394         -0.098643          0.091013   \n",
       "\n",
       "                        Seller_Type_Individual  Transmission_Manual  \n",
       "Selling_Price                        -0.550724            -0.367128  \n",
       "Present_Price                        -0.512030            -0.348715  \n",
       "Kms_Driven                           -0.101419            -0.162510  \n",
       "Owner                                 0.124269            -0.050316  \n",
       "No_Of_year                            0.039896            -0.000394  \n",
       "Fuel_Type_Diesel                     -0.350467            -0.098643  \n",
       "Fuel_Type_Petrol                      0.358321             0.091013  \n",
       "Seller_Type_Individual                1.000000             0.063240  \n",
       "Transmission_Manual                   0.063240             1.000000  "
      ]
     },
     "execution_count": 24,
     "metadata": {},
     "output_type": "execute_result"
    }
   ],
   "source": [
    "final_dataset.corr()"
   ]
  },
  {
   "cell_type": "code",
   "execution_count": 25,
   "metadata": {},
   "outputs": [],
   "source": [
    "import seaborn as sns"
   ]
  },
  {
   "cell_type": "code",
   "execution_count": 26,
   "metadata": {},
   "outputs": [
    {
     "data": {
      "text/plain": [
       "<seaborn.axisgrid.PairGrid at 0x208c8651fd0>"
      ]
     },
     "execution_count": 26,
     "metadata": {},
     "output_type": "execute_result"
    },
    {
     "data": {
      "image/png": "[encoded data removed]",
      "text/plain": [
       "<Figure size 1620x1620 with 90 Axes>"
      ]
     },
     "metadata": {
      "needs_background": "light"
     },
     "output_type": "display_data"
    }
   ],
   "source": [
    "sns.pairplot(final_dataset)"
   ]
  },
  {
   "cell_type": "code",
   "execution_count": 27,
   "metadata": {},
   "outputs": [],
   "source": [
    "import matplotlib.pyplot as plt\n",
    "%matplotlib inline"
   ]
  },
  {
   "cell_type": "code",
   "execution_count": 28,
   "metadata": {},
   "outputs": [
    {
     "data": {
      "image/png": "[encoded data removed]",
      "text/plain": [
       "<Figure size 1440x1440 with 2 Axes>"
      ]
     },
     "metadata": {
      "needs_background": "light"
     },
     "output_type": "display_data"
    }
   ],
   "source": [
    "corrmat=final_dataset.corr()\n",
    "top_corr_features = corrmat.index\n",
    "plt.figure(figsize=(20,20))\n",
    "#plot heat map\n",
    "g = sns.heatmap(final_dataset[top_corr_features].corr(),annot = True,cmap = \"RdYlGn\")"
   ]
  },
  {
   "cell_type": "code",
   "execution_count": 29,
   "metadata": {},
   "outputs": [],
   "source": [
    "## independent and dependent features\n",
    "x = final_dataset.iloc[:,1:]\n",
    "y = final_dataset.iloc[:,0]"
   ]
  },
  {
   "cell_type": "code",
   "execution_count": 30,
   "metadata": {},
   "outputs": [
    {
     "data": {
      "text/html": [
       "<div>\n",
       "<style scoped>\n",
       "    .dataframe tbody tr th:only-of-type {\n",
       "        vertical-align: middle;\n",
       "    }\n",
       "\n",
       "    .dataframe tbody tr th {\n",
       "        vertical-align: top;\n",
       "    }\n",
       "\n",
       "    .dataframe thead th {\n",
       "        text-align: right;\n",
       "    }\n",
       "</style>\n",
       "<table border=\"1\" class=\"dataframe\">\n",
       "  <thead>\n",
       "    <tr style=\"text-align: right;\">\n",
       "      <th></th>\n",
       "      <th>Present_Price</th>\n",
       "      <th>Kms_Driven</th>\n",
       "      <th>Owner</th>\n",
       "      <th>No_Of_year</th>\n",
       "      <th>Fuel_Type_Diesel</th>\n",
       "      <th>Fuel_Type_Petrol</th>\n",
       "      <th>Seller_Type_Individual</th>\n",
       "      <th>Transmission_Manual</th>\n",
       "    </tr>\n",
       "  </thead>\n",
       "  <tbody>\n",
       "    <tr>\n",
       "      <th>0</th>\n",
       "      <td>5.59</td>\n",
       "      <td>27000</td>\n",
       "      <td>0</td>\n",
       "      <td>7</td>\n",
       "      <td>0</td>\n",
       "      <td>1</td>\n",
       "      <td>0</td>\n",
       "      <td>1</td>\n",
       "    </tr>\n",
       "    <tr>\n",
       "      <th>1</th>\n",
       "      <td>9.54</td>\n",
       "      <td>43000</td>\n",
       "      <td>0</td>\n",
       "      <td>8</td>\n",
       "      <td>1</td>\n",
       "      <td>0</td>\n",
       "      <td>0</td>\n",
       "      <td>1</td>\n",
       "    </tr>\n",
       "    <tr>\n",
       "      <th>2</th>\n",
       "      <td>9.85</td>\n",
       "      <td>6900</td>\n",
       "      <td>0</td>\n",
       "      <td>4</td>\n",
       "      <td>0</td>\n",
       "      <td>1</td>\n",
       "      <td>0</td>\n",
       "      <td>1</td>\n",
       "    </tr>\n",
       "    <tr>\n",
       "      <th>3</th>\n",
       "      <td>4.15</td>\n",
       "      <td>5200</td>\n",
       "      <td>0</td>\n",
       "      <td>10</td>\n",
       "      <td>0</td>\n",
       "      <td>1</td>\n",
       "      <td>0</td>\n",
       "      <td>1</td>\n",
       "    </tr>\n",
       "    <tr>\n",
       "      <th>4</th>\n",
       "      <td>6.87</td>\n",
       "      <td>42450</td>\n",
       "      <td>0</td>\n",
       "      <td>7</td>\n",
       "      <td>1</td>\n",
       "      <td>0</td>\n",
       "      <td>0</td>\n",
       "      <td>1</td>\n",
       "    </tr>\n",
       "  </tbody>\n",
       "</table>\n",
       "</div>"
      ],
      "text/plain": [
       "   Present_Price  Kms_Driven  Owner  No_Of_year  Fuel_Type_Diesel  \\\n",
       "0           5.59       27000      0           7                 0   \n",
       "1           9.54       43000      0           8                 1   \n",
       "2           9.85        6900      0           4                 0   \n",
       "3           4.15        5200      0          10                 0   \n",
       "4           6.87       42450      0           7                 1   \n",
       "\n",
       "   Fuel_Type_Petrol  Seller_Type_Individual  Transmission_Manual  \n",
       "0                 1                       0                    1  \n",
       "1                 0                       0                    1  \n",
       "2                 1                       0                    1  \n",
       "3                 1                       0                    1  \n",
       "4                 0                       0                    1  "
      ]
     },
     "execution_count": 30,
     "metadata": {},
     "output_type": "execute_result"
    }
   ],
   "source": [
    "x.head()"
   ]
  },
  {
   "cell_type": "code",
   "execution_count": 31,
   "metadata": {},
   "outputs": [
    {
     "data": {
      "text/plain": [
       "0    3.35\n",
       "1    4.75\n",
       "2    7.25\n",
       "3    2.85\n",
       "4    4.60\n",
       "Name: Selling_Price, dtype: float64"
      ]
     },
     "execution_count": 31,
     "metadata": {},
     "output_type": "execute_result"
    }
   ],
   "source": [
    "y.head()"
   ]
  },
  {
   "cell_type": "code",
   "execution_count": 32,
   "metadata": {},
   "outputs": [
    {
     "data": {
      "text/plain": [
       "ExtraTreesRegressor()"
      ]
     },
     "execution_count": 32,
     "metadata": {},
     "output_type": "execute_result"
    }
   ],
   "source": [
    "### Feature importance\n",
    "from sklearn.ensemble import ExtraTreesRegressor\n",
    "model = ExtraTreesRegressor()\n",
    "model.fit(x,y)"
   ]
  },
  {
   "cell_type": "code",
   "execution_count": 33,
   "metadata": {},
   "outputs": [
    {
     "name": "stdout",
     "output_type": "stream",
     "text": [
      "[0.38568945 0.04126091 0.00047227 0.07673944 0.22774617 0.01220985\n",
      " 0.11837108 0.13751082]\n"
     ]
    }
   ],
   "source": [
    "print(model.feature_importances_)"
   ]
  },
  {
   "cell_type": "code",
   "execution_count": 34,
   "metadata": {},
   "outputs": [
    {
     "data": {
      "image/png": "[encoded data removed]",
      "text/plain": [
       "<Figure size 432x288 with 1 Axes>"
      ]
     },
     "metadata": {
      "needs_background": "light"
     },
     "output_type": "display_data"
    }
   ],
   "source": [
    "### plot graph of feature importances for better visualization\n",
    "feat_importances = pd.Series(model.feature_importances_,index = x.columns)\n",
    "feat_importances.nlargest(5).plot(kind='barh')\n",
    "plt.show()"
   ]
  },
  {
   "cell_type": "markdown",
   "metadata": {},
   "source": [
    "## Training and Testing Data Splitting"
   ]
  },
  {
   "cell_type": "code",
   "execution_count": 35,
   "metadata": {},
   "outputs": [],
   "source": [
    "from sklearn.model_selection import train_test_split\n",
    "X_train,X_test,y_train,y_test = train_test_split(x,y,test_size=0.2)"
   ]
  },
  {
   "cell_type": "code",
   "execution_count": 36,
   "metadata": {},
   "outputs": [
    {
     "data": {
      "text/plain": [
       "(240, 8)"
      ]
     },
     "execution_count": 36,
     "metadata": {},
     "output_type": "execute_result"
    }
   ],
   "source": [
    "X_train.shape\n",
    "\n"
   ]
  },
  {
   "cell_type": "markdown",
   "metadata": {},
   "source": [
    "## Linear Regression"
   ]
  },
  {
   "cell_type": "code",
   "execution_count": 37,
   "metadata": {},
   "outputs": [
    {
     "name": "stdout",
     "output_type": "stream",
     "text": [
      "MAE:  1.3393025681466602\n",
      "MSE:  5.904257220954633\n",
      "RMSE:  2.4298677373376996\n",
      "R squared:  0.5608205933587961\n"
     ]
    },
    {
     "data": {
      "image/png": "[encoded data removed]",
      "text/plain": [
       "<Figure size 432x288 with 1 Axes>"
      ]
     },
     "metadata": {
      "needs_background": "light"
     },
     "output_type": "display_data"
    },
    {
     "data": {
      "image/png": "[encoded data removed]",
      "text/plain": [
       "<Figure size 360x360 with 1 Axes>"
      ]
     },
     "metadata": {
      "needs_background": "light"
     },
     "output_type": "display_data"
    }
   ],
   "source": [
    "from sklearn.linear_model import LinearRegression\n",
    "lr=LinearRegression()\n",
    "lr.fit(X_train,y_train)\n",
    "prediction = lr.predict(X_test)\n",
    "import matplotlib.pyplot as plt\n",
    "import seaborn as sns\n",
    "y1=y_test\n",
    "plt.scatter(y1,prediction)\n",
    "sns.displot(y_test-prediction)\n",
    "from sklearn import metrics\n",
    "import numpy as np\n",
    "print('MAE: ',metrics.mean_absolute_error(y_test,prediction))\n",
    "print('MSE: ',metrics.mean_squared_error(y_test,prediction))\n",
    "print('RMSE: ',np.sqrt(metrics.mean_squared_error(y_test,prediction)))\n",
    "print('R squared: ',metrics.r2_score(y_test,prediction))"
   ]
  },
  {
   "cell_type": "markdown",
   "metadata": {},
   "source": [
    "### This linear model gave us 83% accuracy "
   ]
  },
  {
   "cell_type": "markdown",
   "metadata": {},
   "source": [
    "# Training the data on Random Forest Model "
   ]
  },
  {
   "cell_type": "code",
   "execution_count": 38,
   "metadata": {},
   "outputs": [],
   "source": [
    "from sklearn.ensemble import RandomForestRegressor\n",
    "rf_random = RandomForestRegressor()"
   ]
  },
  {
   "cell_type": "code",
   "execution_count": 39,
   "metadata": {},
   "outputs": [],
   "source": [
    "import numpy as np"
   ]
  },
  {
   "cell_type": "markdown",
   "metadata": {},
   "source": [
    "#### Hyperparameter Tuning "
   ]
  },
  {
   "cell_type": "code",
   "execution_count": 40,
   "metadata": {},
   "outputs": [
    {
     "name": "stdout",
     "output_type": "stream",
     "text": [
      "[100, 200, 300, 400, 500, 600, 700, 800, 900, 1000, 1100, 1200]\n"
     ]
    }
   ],
   "source": [
    "### Hyperparameters\n",
    "n_estimators = [int(x) for x in np.linspace(start = 100,stop=1200,num=12)]\n",
    "print(n_estimators)"
   ]
  },
  {
   "cell_type": "code",
   "execution_count": 41,
   "metadata": {},
   "outputs": [],
   "source": [
    "#Randomized Search CV\n",
    "\n",
    "# Number of trees in random forest\n",
    "n_estimators = [int(x) for x in np.linspace(start = 100, stop = 1200, num = 12)]\n",
    "# Number of features to consider at every split\n",
    "max_features = ['auto', 'sqrt']\n",
    "# Maximum number of levels in tree\n",
    "max_depth = [int(x) for x in np.linspace(5, 30, num = 6)]\n",
    "# max_depth.append(None)\n",
    "# Minimum number of samples required to split a node\n",
    "min_samples_split = [2, 5, 10, 15, 100]\n",
    "# Minimum number of samples required at each leaf node\n",
    "min_samples_leaf = [1, 2, 5, 10]"
   ]
  },
  {
   "cell_type": "code",
   "execution_count": 42,
   "metadata": {},
   "outputs": [],
   "source": [
    "from sklearn.model_selection import RandomizedSearchCV"
   ]
  },
  {
   "cell_type": "code",
   "execution_count": 43,
   "metadata": {},
   "outputs": [
    {
     "name": "stdout",
     "output_type": "stream",
     "text": [
      "{'n_estimators': [100, 200, 300, 400, 500, 600, 700, 800, 900, 1000, 1100, 1200], 'max_features': ['auto', 'sqrt'], 'max_depth': [5, 10, 15, 20, 25, 30], 'min_samples_split': [2, 5, 10, 15, 100], 'min_samples_leaf': [1, 2, 5, 10]}\n"
     ]
    }
   ],
   "source": [
    "# Create the random grid\n",
    "random_grid = {'n_estimators': n_estimators,\n",
    "               'max_features': max_features,\n",
    "               'max_depth': max_depth,\n",
    "               'min_samples_split': min_samples_split,\n",
    "               'min_samples_leaf': min_samples_leaf}\n",
    "\n",
    "print(random_grid)"
   ]
  },
  {
   "cell_type": "code",
   "execution_count": 44,
   "metadata": {},
   "outputs": [],
   "source": [
    "# Use the random grid to search for best hyperparameters\n",
    "# First create the base model to tune\n",
    "rf = RandomForestRegressor()"
   ]
  },
  {
   "cell_type": "code",
   "execution_count": 45,
   "metadata": {},
   "outputs": [],
   "source": [
    "# Random search of parameters, using 3 fold cross validation, \n",
    "# search across 100 different combinations\n",
    "rf_random = RandomizedSearchCV(estimator = rf, param_distributions = random_grid,scoring='neg_mean_squared_error', n_iter = 10, cv = 5, verbose=2, random_state=42, n_jobs = 1)"
   ]
  },
  {
   "cell_type": "code",
   "execution_count": 46,
   "metadata": {},
   "outputs": [
    {
     "name": "stdout",
     "output_type": "stream",
     "text": [
      "Fitting 5 folds for each of 10 candidates, totalling 50 fits\n",
      "[CV] n_estimators=900, min_samples_split=5, min_samples_leaf=5, max_features=sqrt, max_depth=10 \n"
     ]
    },
    {
     "name": "stderr",
     "output_type": "stream",
     "text": [
      "[Parallel(n_jobs=1)]: Using backend SequentialBackend with 1 concurrent workers.\n"
     ]
    },
    {
     "name": "stdout",
     "output_type": "stream",
     "text": [
      "[CV]  n_estimators=900, min_samples_split=5, min_samples_leaf=5, max_features=sqrt, max_depth=10, total=   1.3s\n",
      "[CV] n_estimators=900, min_samples_split=5, min_samples_leaf=5, max_features=sqrt, max_depth=10 \n"
     ]
    },
    {
     "name": "stderr",
     "output_type": "stream",
     "text": [
      "[Parallel(n_jobs=1)]: Done   1 out of   1 | elapsed:    1.2s remaining:    0.0s\n"
     ]
    },
    {
     "name": "stdout",
     "output_type": "stream",
     "text": [
      "[CV]  n_estimators=900, min_samples_split=5, min_samples_leaf=5, max_features=sqrt, max_depth=10, total=   1.0s\n",
      "[CV] n_estimators=900, min_samples_split=5, min_samples_leaf=5, max_features=sqrt, max_depth=10 \n",
      "[CV]  n_estimators=900, min_samples_split=5, min_samples_leaf=5, max_features=sqrt, max_depth=10, total=   1.0s\n",
      "[CV] n_estimators=900, min_samples_split=5, min_samples_leaf=5, max_features=sqrt, max_depth=10 \n",
      "[CV]  n_estimators=900, min_samples_split=5, min_samples_leaf=5, max_features=sqrt, max_depth=10, total=   1.0s\n",
      "[CV] n_estimators=900, min_samples_split=5, min_samples_leaf=5, max_features=sqrt, max_depth=10 \n",
      "[CV]  n_estimators=900, min_samples_split=5, min_samples_leaf=5, max_features=sqrt, max_depth=10, total=   1.1s\n",
      "[CV] n_estimators=1100, min_samples_split=10, min_samples_leaf=2, max_features=sqrt, max_depth=15 \n",
      "[CV]  n_estimators=1100, min_samples_split=10, min_samples_leaf=2, max_features=sqrt, max_depth=15, total=   1.3s\n",
      "[CV] n_estimators=1100, min_samples_split=10, min_samples_leaf=2, max_features=sqrt, max_depth=15 \n",
      "[CV]  n_estimators=1100, min_samples_split=10, min_samples_leaf=2, max_features=sqrt, max_depth=15, total=   1.2s\n",
      "[CV] n_estimators=1100, min_samples_split=10, min_samples_leaf=2, max_features=sqrt, max_depth=15 \n",
      "[CV]  n_estimators=1100, min_samples_split=10, min_samples_leaf=2, max_features=sqrt, max_depth=15, total=   1.2s\n",
      "[CV] n_estimators=1100, min_samples_split=10, min_samples_leaf=2, max_features=sqrt, max_depth=15 \n",
      "[CV]  n_estimators=1100, min_samples_split=10, min_samples_leaf=2, max_features=sqrt, max_depth=15, total=   1.3s\n",
      "[CV] n_estimators=1100, min_samples_split=10, min_samples_leaf=2, max_features=sqrt, max_depth=15 \n",
      "[CV]  n_estimators=1100, min_samples_split=10, min_samples_leaf=2, max_features=sqrt, max_depth=15, total=   1.2s\n",
      "[CV] n_estimators=300, min_samples_split=100, min_samples_leaf=5, max_features=auto, max_depth=15 \n",
      "[CV]  n_estimators=300, min_samples_split=100, min_samples_leaf=5, max_features=auto, max_depth=15, total=   0.3s\n",
      "[CV] n_estimators=300, min_samples_split=100, min_samples_leaf=5, max_features=auto, max_depth=15 \n",
      "[CV]  n_estimators=300, min_samples_split=100, min_samples_leaf=5, max_features=auto, max_depth=15, total=   0.3s\n",
      "[CV] n_estimators=300, min_samples_split=100, min_samples_leaf=5, max_features=auto, max_depth=15 \n",
      "[CV]  n_estimators=300, min_samples_split=100, min_samples_leaf=5, max_features=auto, max_depth=15, total=   0.3s\n",
      "[CV] n_estimators=300, min_samples_split=100, min_samples_leaf=5, max_features=auto, max_depth=15 \n",
      "[CV]  n_estimators=300, min_samples_split=100, min_samples_leaf=5, max_features=auto, max_depth=15, total=   0.3s\n",
      "[CV] n_estimators=300, min_samples_split=100, min_samples_leaf=5, max_features=auto, max_depth=15 \n",
      "[CV]  n_estimators=300, min_samples_split=100, min_samples_leaf=5, max_features=auto, max_depth=15, total=   0.4s\n",
      "[CV] n_estimators=400, min_samples_split=5, min_samples_leaf=5, max_features=auto, max_depth=15 \n",
      "[CV]  n_estimators=400, min_samples_split=5, min_samples_leaf=5, max_features=auto, max_depth=15, total=   0.5s\n",
      "[CV] n_estimators=400, min_samples_split=5, min_samples_leaf=5, max_features=auto, max_depth=15 \n",
      "[CV]  n_estimators=400, min_samples_split=5, min_samples_leaf=5, max_features=auto, max_depth=15, total=   0.5s\n",
      "[CV] n_estimators=400, min_samples_split=5, min_samples_leaf=5, max_features=auto, max_depth=15 \n",
      "[CV]  n_estimators=400, min_samples_split=5, min_samples_leaf=5, max_features=auto, max_depth=15, total=   0.5s\n",
      "[CV] n_estimators=400, min_samples_split=5, min_samples_leaf=5, max_features=auto, max_depth=15 \n",
      "[CV]  n_estimators=400, min_samples_split=5, min_samples_leaf=5, max_features=auto, max_depth=15, total=   0.5s\n",
      "[CV] n_estimators=400, min_samples_split=5, min_samples_leaf=5, max_features=auto, max_depth=15 \n",
      "[CV]  n_estimators=400, min_samples_split=5, min_samples_leaf=5, max_features=auto, max_depth=15, total=   0.6s\n",
      "[CV] n_estimators=700, min_samples_split=5, min_samples_leaf=10, max_features=auto, max_depth=20 \n",
      "[CV]  n_estimators=700, min_samples_split=5, min_samples_leaf=10, max_features=auto, max_depth=20, total=   1.0s\n",
      "[CV] n_estimators=700, min_samples_split=5, min_samples_leaf=10, max_features=auto, max_depth=20 \n",
      "[CV]  n_estimators=700, min_samples_split=5, min_samples_leaf=10, max_features=auto, max_depth=20, total=   1.0s\n",
      "[CV] n_estimators=700, min_samples_split=5, min_samples_leaf=10, max_features=auto, max_depth=20 \n",
      "[CV]  n_estimators=700, min_samples_split=5, min_samples_leaf=10, max_features=auto, max_depth=20, total=   0.8s\n",
      "[CV] n_estimators=700, min_samples_split=5, min_samples_leaf=10, max_features=auto, max_depth=20 \n",
      "[CV]  n_estimators=700, min_samples_split=5, min_samples_leaf=10, max_features=auto, max_depth=20, total=   0.9s\n",
      "[CV] n_estimators=700, min_samples_split=5, min_samples_leaf=10, max_features=auto, max_depth=20 \n",
      "[CV]  n_estimators=700, min_samples_split=5, min_samples_leaf=10, max_features=auto, max_depth=20, total=   1.1s\n",
      "[CV] n_estimators=1000, min_samples_split=2, min_samples_leaf=1, max_features=sqrt, max_depth=25 \n",
      "[CV]  n_estimators=1000, min_samples_split=2, min_samples_leaf=1, max_features=sqrt, max_depth=25, total=   1.5s\n",
      "[CV] n_estimators=1000, min_samples_split=2, min_samples_leaf=1, max_features=sqrt, max_depth=25 \n",
      "[CV]  n_estimators=1000, min_samples_split=2, min_samples_leaf=1, max_features=sqrt, max_depth=25, total=   1.5s\n",
      "[CV] n_estimators=1000, min_samples_split=2, min_samples_leaf=1, max_features=sqrt, max_depth=25 \n",
      "[CV]  n_estimators=1000, min_samples_split=2, min_samples_leaf=1, max_features=sqrt, max_depth=25, total=   1.4s\n",
      "[CV] n_estimators=1000, min_samples_split=2, min_samples_leaf=1, max_features=sqrt, max_depth=25 \n",
      "[CV]  n_estimators=1000, min_samples_split=2, min_samples_leaf=1, max_features=sqrt, max_depth=25, total=   1.3s\n",
      "[CV] n_estimators=1000, min_samples_split=2, min_samples_leaf=1, max_features=sqrt, max_depth=25 \n",
      "[CV]  n_estimators=1000, min_samples_split=2, min_samples_leaf=1, max_features=sqrt, max_depth=25, total=   1.3s\n",
      "[CV] n_estimators=1100, min_samples_split=15, min_samples_leaf=10, max_features=sqrt, max_depth=5 \n",
      "[CV]  n_estimators=1100, min_samples_split=15, min_samples_leaf=10, max_features=sqrt, max_depth=5, total=   1.2s\n",
      "[CV] n_estimators=1100, min_samples_split=15, min_samples_leaf=10, max_features=sqrt, max_depth=5 \n",
      "[CV]  n_estimators=1100, min_samples_split=15, min_samples_leaf=10, max_features=sqrt, max_depth=5, total=   1.6s\n",
      "[CV] n_estimators=1100, min_samples_split=15, min_samples_leaf=10, max_features=sqrt, max_depth=5 \n",
      "[CV]  n_estimators=1100, min_samples_split=15, min_samples_leaf=10, max_features=sqrt, max_depth=5, total=   1.2s\n",
      "[CV] n_estimators=1100, min_samples_split=15, min_samples_leaf=10, max_features=sqrt, max_depth=5 \n",
      "[CV]  n_estimators=1100, min_samples_split=15, min_samples_leaf=10, max_features=sqrt, max_depth=5, total=   1.5s\n",
      "[CV] n_estimators=1100, min_samples_split=15, min_samples_leaf=10, max_features=sqrt, max_depth=5 \n",
      "[CV]  n_estimators=1100, min_samples_split=15, min_samples_leaf=10, max_features=sqrt, max_depth=5, total=   1.5s\n",
      "[CV] n_estimators=300, min_samples_split=15, min_samples_leaf=1, max_features=sqrt, max_depth=15 \n",
      "[CV]  n_estimators=300, min_samples_split=15, min_samples_leaf=1, max_features=sqrt, max_depth=15, total=   0.4s\n",
      "[CV] n_estimators=300, min_samples_split=15, min_samples_leaf=1, max_features=sqrt, max_depth=15 \n",
      "[CV]  n_estimators=300, min_samples_split=15, min_samples_leaf=1, max_features=sqrt, max_depth=15, total=   0.3s\n",
      "[CV] n_estimators=300, min_samples_split=15, min_samples_leaf=1, max_features=sqrt, max_depth=15 \n",
      "[CV]  n_estimators=300, min_samples_split=15, min_samples_leaf=1, max_features=sqrt, max_depth=15, total=   0.4s\n",
      "[CV] n_estimators=300, min_samples_split=15, min_samples_leaf=1, max_features=sqrt, max_depth=15 \n",
      "[CV]  n_estimators=300, min_samples_split=15, min_samples_leaf=1, max_features=sqrt, max_depth=15, total=   0.5s\n",
      "[CV] n_estimators=300, min_samples_split=15, min_samples_leaf=1, max_features=sqrt, max_depth=15 \n",
      "[CV]  n_estimators=300, min_samples_split=15, min_samples_leaf=1, max_features=sqrt, max_depth=15, total=   0.4s\n",
      "[CV] n_estimators=700, min_samples_split=10, min_samples_leaf=2, max_features=sqrt, max_depth=5 \n"
     ]
    },
    {
     "name": "stdout",
     "output_type": "stream",
     "text": [
      "[CV]  n_estimators=700, min_samples_split=10, min_samples_leaf=2, max_features=sqrt, max_depth=5, total=   0.8s\n",
      "[CV] n_estimators=700, min_samples_split=10, min_samples_leaf=2, max_features=sqrt, max_depth=5 \n",
      "[CV]  n_estimators=700, min_samples_split=10, min_samples_leaf=2, max_features=sqrt, max_depth=5, total=   0.8s\n",
      "[CV] n_estimators=700, min_samples_split=10, min_samples_leaf=2, max_features=sqrt, max_depth=5 \n",
      "[CV]  n_estimators=700, min_samples_split=10, min_samples_leaf=2, max_features=sqrt, max_depth=5, total=   1.0s\n",
      "[CV] n_estimators=700, min_samples_split=10, min_samples_leaf=2, max_features=sqrt, max_depth=5 \n",
      "[CV]  n_estimators=700, min_samples_split=10, min_samples_leaf=2, max_features=sqrt, max_depth=5, total=   1.0s\n",
      "[CV] n_estimators=700, min_samples_split=10, min_samples_leaf=2, max_features=sqrt, max_depth=5 \n",
      "[CV]  n_estimators=700, min_samples_split=10, min_samples_leaf=2, max_features=sqrt, max_depth=5, total=   0.8s\n",
      "[CV] n_estimators=700, min_samples_split=15, min_samples_leaf=1, max_features=auto, max_depth=20 \n",
      "[CV]  n_estimators=700, min_samples_split=15, min_samples_leaf=1, max_features=auto, max_depth=20, total=   0.9s\n",
      "[CV] n_estimators=700, min_samples_split=15, min_samples_leaf=1, max_features=auto, max_depth=20 \n",
      "[CV]  n_estimators=700, min_samples_split=15, min_samples_leaf=1, max_features=auto, max_depth=20, total=   0.9s\n",
      "[CV] n_estimators=700, min_samples_split=15, min_samples_leaf=1, max_features=auto, max_depth=20 \n",
      "[CV]  n_estimators=700, min_samples_split=15, min_samples_leaf=1, max_features=auto, max_depth=20, total=   0.8s\n",
      "[CV] n_estimators=700, min_samples_split=15, min_samples_leaf=1, max_features=auto, max_depth=20 \n",
      "[CV]  n_estimators=700, min_samples_split=15, min_samples_leaf=1, max_features=auto, max_depth=20, total=   0.9s\n",
      "[CV] n_estimators=700, min_samples_split=15, min_samples_leaf=1, max_features=auto, max_depth=20 \n",
      "[CV]  n_estimators=700, min_samples_split=15, min_samples_leaf=1, max_features=auto, max_depth=20, total=   0.8s\n"
     ]
    },
    {
     "name": "stderr",
     "output_type": "stream",
     "text": [
      "[Parallel(n_jobs=1)]: Done  50 out of  50 | elapsed:   45.2s finished\n"
     ]
    },
    {
     "data": {
      "text/plain": [
       "RandomizedSearchCV(cv=5, estimator=RandomForestRegressor(), n_jobs=1,\n",
       "                   param_distributions={'max_depth': [5, 10, 15, 20, 25, 30],\n",
       "                                        'max_features': ['auto', 'sqrt'],\n",
       "                                        'min_samples_leaf': [1, 2, 5, 10],\n",
       "                                        'min_samples_split': [2, 5, 10, 15,\n",
       "                                                              100],\n",
       "                                        'n_estimators': [100, 200, 300, 400,\n",
       "                                                         500, 600, 700, 800,\n",
       "                                                         900, 1000, 1100,\n",
       "                                                         1200]},\n",
       "                   random_state=42, scoring='neg_mean_squared_error',\n",
       "                   verbose=2)"
      ]
     },
     "execution_count": 46,
     "metadata": {},
     "output_type": "execute_result"
    }
   ],
   "source": [
    "rf_random.fit(X_train,y_train)"
   ]
  },
  {
   "cell_type": "code",
   "execution_count": 56,
   "metadata": {},
   "outputs": [
    {
     "data": {
      "text/plain": [
       "'digraph Tree {\\nnode [shape=box] ;\\n0 [label=\"X[0] <= 7.805\\\\nmse = 14.035\\\\nsamples = 152\\\\nvalue = 4.107\"] ;\\n1 [label=\"X[0] <= 3.075\\\\nmse = 2.778\\\\nsamples = 89\\\\nvalue = 2.201\"] ;\\n0 -> 1 [labeldistance=2.5, labelangle=45, headlabel=\"True\"] ;\\n2 [label=\"X[1] <= 11500.0\\\\nmse = 0.133\\\\nsamples = 43\\\\nvalue = 0.66\"] ;\\n1 -> 2 ;\\n3 [label=\"X[3] <= 5.5\\\\nmse = 0.101\\\\nsamples = 12\\\\nvalue = 1.021\"] ;\\n2 -> 3 ;\\n4 [label=\"X[3] <= 4.5\\\\nmse = 0.115\\\\nsamples = 8\\\\nvalue = 1.078\"] ;\\n3 -> 4 ;\\n5 [label=\"X[0] <= 1.155\\\\nmse = 0.092\\\\nsamples = 4\\\\nvalue = 1.035\"] ;\\n4 -> 5 ;\\n6 [label=\"X[0] <= 0.69\\\\nmse = 0.022\\\\nsamples = 2\\\\nvalue = 0.63\"] ;\\n5 -> 6 ;\\n7 [label=\"mse = 0.0\\\\nsamples = 1\\\\nvalue = 0.48\"] ;\\n6 -> 7 ;\\n8 [label=\"mse = 0.0\\\\nsamples = 1\\\\nvalue = 0.78\"] ;\\n6 -> 8 ;\\n9 [label=\"X[1] <= 7550.0\\\\nmse = 0.004\\\\nsamples = 2\\\\nvalue = 1.237\"] ;\\n5 -> 9 ;\\n10 [label=\"mse = 0.0\\\\nsamples = 1\\\\nvalue = 1.35\"] ;\\n9 -> 10 ;\\n11 [label=\"mse = 0.0\\\\nsamples = 1\\\\nvalue = 1.2\"] ;\\n9 -> 11 ;\\n12 [label=\"X[0] <= 1.58\\\\nmse = 0.141\\\\nsamples = 4\\\\nvalue = 1.142\"] ;\\n4 -> 12 ;\\n13 [label=\"X[0] <= 1.06\\\\nmse = 0.024\\\\nsamples = 3\\\\nvalue = 0.94\"] ;\\n12 -> 13 ;\\n14 [label=\"mse = 0.0\\\\nsamples = 1\\\\nvalue = 0.72\"] ;\\n13 -> 14 ;\\n15 [label=\"mse = -0.0\\\\nsamples = 2\\\\nvalue = 1.05\"] ;\\n13 -> 15 ;\\n16 [label=\"mse = 0.0\\\\nsamples = 1\\\\nvalue = 1.75\"] ;\\n12 -> 16 ;\\n17 [label=\"X[3] <= 6.5\\\\nmse = 0.065\\\\nsamples = 4\\\\nvalue = 0.925\"] ;\\n3 -> 17 ;\\n18 [label=\"mse = 0.0\\\\nsamples = 1\\\\nvalue = 0.65\"] ;\\n17 -> 18 ;\\n19 [label=\"X[3] <= 7.5\\\\nmse = 0.06\\\\nsamples = 3\\\\nvalue = 0.98\"] ;\\n17 -> 19 ;\\n20 [label=\"X[0] <= 1.64\\\\nmse = 0.094\\\\nsamples = 2\\\\nvalue = 0.933\"] ;\\n19 -> 20 ;\\n21 [label=\"mse = 0.0\\\\nsamples = 1\\\\nvalue = 0.5\"] ;\\n20 -> 21 ;\\n22 [label=\"mse = 0.0\\\\nsamples = 1\\\\nvalue = 1.15\"] ;\\n20 -> 22 ;\\n23 [label=\"mse = 0.0\\\\nsamples = 1\\\\nvalue = 1.05\"] ;\\n19 -> 23 ;\\n24 [label=\"X[2] <= 0.5\\\\nmse = 0.093\\\\nsamples = 31\\\\nvalue = 0.555\"] ;\\n2 -> 24 ;\\n25 [label=\"X[1] <= 51500.0\\\\nmse = 0.087\\\\nsamples = 30\\\\nvalue = 0.587\"] ;\\n24 -> 25 ;\\n26 [label=\"X[0] <= 1.3\\\\nmse = 0.075\\\\nsamples = 26\\\\nvalue = 0.638\"] ;\\n25 -> 26 ;\\n27 [label=\"X[3] <= 9.5\\\\nmse = 0.011\\\\nsamples = 20\\\\nvalue = 0.503\"] ;\\n26 -> 27 ;\\n28 [label=\"X[1] <= 35300.0\\\\nmse = 0.012\\\\nsamples = 17\\\\nvalue = 0.511\"] ;\\n27 -> 28 ;\\n29 [label=\"X[0] <= 0.759\\\\nmse = 0.01\\\\nsamples = 15\\\\nvalue = 0.528\"] ;\\n28 -> 29 ;\\n30 [label=\"X[0] <= 0.56\\\\nmse = 0.003\\\\nsamples = 6\\\\nvalue = 0.405\"] ;\\n29 -> 30 ;\\n31 [label=\"X[1] <= 22500.0\\\\nmse = 0.002\\\\nsamples = 3\\\\nvalue = 0.438\"] ;\\n30 -> 31 ;\\n32 [label=\"X[3] <= 5.5\\\\nmse = 0.001\\\\nsamples = 2\\\\nvalue = 0.417\"] ;\\n31 -> 32 ;\\n33 [label=\"mse = 0.0\\\\nsamples = 1\\\\nvalue = 0.45\"] ;\\n32 -> 33 ;\\n34 [label=\"mse = 0.0\\\\nsamples = 1\\\\nvalue = 0.4\"] ;\\n32 -> 34 ;\\n35 [label=\"mse = 0.0\\\\nsamples = 1\\\\nvalue = 0.5\"] ;\\n31 -> 35 ;\\n36 [label=\"X[3] <= 6.5\\\\nmse = 0.003\\\\nsamples = 3\\\\nvalue = 0.372\"] ;\\n30 -> 36 ;\\n37 [label=\"mse = 0.0\\\\nsamples = 1\\\\nvalue = 0.35\"] ;\\n36 -> 37 ;\\n38 [label=\"X[1] <= 21000.0\\\\nmse = 0.003\\\\nsamples = 2\\\\nvalue = 0.38\"] ;\\n36 -> 38 ;\\n39 [label=\"mse = 0.0\\\\nsamples = 1\\\\nvalue = 0.42\"] ;\\n38 -> 39 ;\\n40 [label=\"mse = 0.0\\\\nsamples = 1\\\\nvalue = 0.3\"] ;\\n38 -> 40 ;\\n41 [label=\"X[3] <= 8.5\\\\nmse = 0.004\\\\nsamples = 9\\\\nvalue = 0.577\"] ;\\n29 -> 41 ;\\n42 [label=\"X[0] <= 0.794\\\\nmse = 0.0\\\\nsamples = 7\\\\nvalue = 0.611\"] ;\\n41 -> 42 ;\\n43 [label=\"mse = 0.0\\\\nsamples = 1\\\\nvalue = 0.65\"] ;\\n42 -> 43 ;\\n44 [label=\"mse = -0.0\\\\nsamples = 6\\\\nvalue = 0.6\"] ;\\n42 -> 44 ;\\n45 [label=\"X[0] <= 0.9\\\\nmse = 0.005\\\\nsamples = 2\\\\nvalue = 0.5\"] ;\\n41 -> 45 ;\\n46 [label=\"mse = 0.0\\\\nsamples = 1\\\\nvalue = 0.6\"] ;\\n45 -> 46 ;\\n47 [label=\"mse = 0.0\\\\nsamples = 1\\\\nvalue = 0.45\"] ;\\n45 -> 47 ;\\n48 [label=\"X[3] <= 5.5\\\\nmse = 0.001\\\\nsamples = 2\\\\nvalue = 0.353\"] ;\\n28 -> 48 ;\\n49 [label=\"mse = 0.0\\\\nsamples = 1\\\\nvalue = 0.3\"] ;\\n48 -> 49 ;\\n50 [label=\"mse = 0.0\\\\nsamples = 1\\\\nvalue = 0.38\"] ;\\n48 -> 50 ;\\n51 [label=\"X[0] <= 1.0\\\\nmse = 0.004\\\\nsamples = 3\\\\nvalue = 0.442\"] ;\\n27 -> 51 ;\\n52 [label=\"X[1] <= 34500.0\\\\nmse = 0.001\\\\nsamples = 2\\\\nvalue = 0.473\"] ;\\n51 -> 52 ;\\n53 [label=\"mse = 0.0\\\\nsamples = 1\\\\nvalue = 0.45\"] ;\\n52 -> 53 ;\\n54 [label=\"mse = 0.0\\\\nsamples = 1\\\\nvalue = 0.52\"] ;\\n52 -> 54 ;\\n55 [label=\"mse = -0.0\\\\nsamples = 1\\\\nvalue = 0.35\"] ;\\n51 -> 55 ;\\n56 [label=\"X[3] <= 10.5\\\\nmse = 0.011\\\\nsamples = 6\\\\nvalue = 1.111\"] ;\\n26 -> 56 ;\\n57 [label=\"X[3] <= 8.5\\\\nmse = 0.007\\\\nsamples = 5\\\\nvalue = 1.134\"] ;\\n56 -> 57 ;\\n58 [label=\"X[3] <= 7.0\\\\nmse = 0.004\\\\nsamples = 4\\\\nvalue = 1.101\"] ;\\n57 -> 58 ;\\n59 [label=\"X[1] <= 17250.0\\\\nmse = 0.0\\\\nsamples = 3\\\\nvalue = 1.142\"] ;\\n58 -> 59 ;\\n60 [label=\"mse = 0.0\\\\nsamples = 1\\\\nvalue = 1.15\"] ;\\n59 -> 60 ;\\n61 [label=\"X[1] <= 26250.0\\\\nmse = 0.0\\\\nsamples = 2\\\\nvalue = 1.13\"] ;\\n59 -> 61 ;\\n62 [label=\"mse = 0.0\\\\nsamples = 1\\\\nvalue = 1.11\"] ;\\n61 -> 62 ;\\n63 [label=\"mse = 0.0\\\\nsamples = 1\\\\nvalue = 1.15\"] ;\\n61 -> 63 ;\\n64 [label=\"mse = -0.0\\\\nsamples = 1\\\\nvalue = 1.0\"] ;\\n58 -> 64 ;\\n65 [label=\"mse = 0.0\\\\nsamples = 1\\\\nvalue = 1.25\"] ;\\n57 -> 65 ;\\n66 [label=\"mse = -0.0\\\\nsamples = 1\\\\nvalue = 0.9\"] ;\\n56 -> 66 ;\\n67 [label=\"X[3] <= 11.5\\\\nmse = 0.006\\\\nsamples = 4\\\\nvalue = 0.203\"] ;\\n25 -> 67 ;\\n68 [label=\"mse = 0.0\\\\nsamples = 1\\\\nvalue = 0.3\"] ;\\n67 -> 68 ;\\n69 [label=\"X[1] <= 73616.5\\\\nmse = 0.002\\\\nsamples = 3\\\\nvalue = 0.155\"] ;\\n67 -> 69 ;\\n70 [label=\"X[3] <= 15.0\\\\nmse = 0.001\\\\nsamples = 2\\\\nvalue = 0.173\"] ;\\n69 -> 70 ;\\n71 [label=\"mse = 0.0\\\\nsamples = 1\\\\nvalue = 0.12\"] ;\\n70 -> 71 ;\\n72 [label=\"mse = 0.0\\\\nsamples = 1\\\\nvalue = 0.2\"] ;\\n70 -> 72 ;\\n73 [label=\"mse = 0.0\\\\nsamples = 1\\\\nvalue = 0.1\"] ;\\n69 -> 73 ;\\n74 [label=\"mse = -0.0\\\\nsamples = 1\\\\nvalue = 0.15\"] ;\\n24 -> 74 ;\\n75 [label=\"X[2] <= 0.5\\\\nmse = 1.19\\\\nsamples = 46\\\\nvalue = 3.552\"] ;\\n1 -> 75 ;\\n76 [label=\"X[1] <= 42725.0\\\\nmse = 1.156\\\\nsamples = 44\\\\nvalue = 3.501\"] ;\\n75 -> 76 ;\\n77 [label=\"X[0] <= 5.645\\\\nmse = 1.074\\\\nsamples = 30\\\\nvalue = 3.957\"] ;\\n76 -> 77 ;\\n78 [label=\"X[3] <= 8.5\\\\nmse = 0.255\\\\nsamples = 11\\\\nvalue = 3.002\"] ;\\n77 -> 78 ;\\n79 [label=\"X[5] <= 0.5\\\\nmse = 0.1\\\\nsamples = 9\\\\nvalue = 3.209\"] ;\\n78 -> 79 ;\\n80 [label=\"mse = 0.0\\\\nsamples = 1\\\\nvalue = 3.25\"] ;\\n79 -> 80 ;\\n81 [label=\"X[1] <= 29141.0\\\\nmse = 0.114\\\\nsamples = 8\\\\nvalue = 3.204\"] ;\\n79 -> 81 ;\\n82 [label=\"X[0] <= 5.01\\\\nmse = 0.042\\\\nsamples = 6\\\\nvalue = 3.035\"] ;\\n81 -> 82 ;\\n83 [label=\"X[0] <= 4.19\\\\nmse = 0.021\\\\nsamples = 5\\\\nvalue = 2.956\"] ;\\n82 -> 83 ;\\n84 [label=\"mse = 0.0\\\\nsamples = 1\\\\nvalue = 2.85\"] ;\\n83 -> 84 ;\\n85 [label=\"X[3] <= 5.5\\\\nmse = 0.023\\\\nsamples = 4\\\\nvalue = 2.992\"] ;\\n83 -> 85 ;\\n86 [label=\"X[1] <= 13750.0\\\\nmse = 0.013\\\\nsamples = 3\\\\nvalue = 3.04\"] ;\\n85 -> 86 ;\\n87 [label=\"X[1] <= 12174.5\\\\nmse = 0.009\\\\nsamples = 2\\\\nvalue = 2.967\"] ;\\n86 -> 87 ;\\n88 [label=\"mse = 0.0\\\\nsamples = 1\\\\nvalue = 3.1\"] ;\\n87 -> 88 ;\\n89 [label=\"mse = -0.0\\\\nsamples = 1\\\\nvalue = 2.9\"] ;\\n87 -> 89 ;\\n90 [label=\"mse = -0.0\\\\nsamples = 1\\\\nvalue = 3.15\"] ;\\n86 -> 90 ;\\n91 [label=\"mse = 0.0\\\\nsamples = 1\\\\nvalue = 2.75\"] ;\\n85 -> 91 ;\\n92 [label=\"mse = 0.0\\\\nsamples = 1\\\\nvalue = 3.35\"] ;\\n82 -> 92 ;\\n93 [label=\"X[0] <= 4.515\\\\nmse = 0.047\\\\nsamples = 2\\\\nvalue = 3.625\"] ;\\n81 -> 93 ;\\n94 [label=\"mse = 0.0\\\\nsamples = 1\\\\nvalue = 3.5\"] ;\\n93 -> 94 ;\\n95 [label=\"mse = 0.0\\\\nsamples = 1\\\\nvalue = 4.0\"] ;\\n93 -> 95 ;\\n96 [label=\"X[0] <= 4.29\\\\nmse = 0.173\\\\nsamples = 2\\\\nvalue = 2.34\"] ;\\n78 -> 96 ;\\n97 [label=\"mse = 0.0\\\\nsamples = 1\\\\nvalue = 2.85\"] ;\\n96 -> 97 ;\\n98 [label=\"mse = 0.0\\\\nsamples = 1\\\\nvalue = 2.0\"] ;\\n96 -> 98 ;\\n99 [label=\"X[3] <= 6.5\\\\nmse = 0.493\\\\nsamples = 19\\\\nvalue = 4.673\"] ;\\n77 -> 99 ;\\n100 [label=\"X[1] <= 37410.0\\\\nmse = 0.277\\\\nsamples = 10\\\\nvalue = 5.062\"] ;\\n99 -> 100 ;\\n101 [label=\"X[6] <= 0.5\\\\nmse = 0.094\\\\nsamples = 7\\\\nvalue = 5.364\"] ;\\n100 -> 101 ;\\n102 [label=\"X[0] <= 5.935\\\\nmse = 0.059\\\\nsamples = 6\\\\nvalue = 5.3\"] ;\\n101 -> 102 ;\\n103 [label=\"X[0] <= 5.805\\\\nmse = 0.014\\\\nsamples = 3\\\\nvalue = 5.133\"] ;\\n102 -> 103 ;\\n104 [label=\"X[0] <= 5.705\\\\nmse = 0.01\\\\nsamples = 2\\\\nvalue = 5.1\"] ;\\n103 -> 104 ;\\n105 [label=\"mse = 0.0\\\\nsamples = 1\\\\nvalue = 5.15\"] ;\\n104 -> 105 ;\\n106 [label=\"mse = 0.0\\\\nsamples = 1\\\\nvalue = 4.9\"] ;\\n104 -> 106 ;\\n107 [label=\"mse = -0.0\\\\nsamples = 1\\\\nvalue = 5.3\"] ;\\n103 -> 107 ;\\n108 [label=\"X[0] <= 6.905\\\\nmse = 0.023\\\\nsamples = 3\\\\nvalue = 5.55\"] ;\\n102 -> 108 ;\\n109 [label=\"X[0] <= 6.035\\\\nmse = 0.002\\\\nsamples = 2\\\\nvalue = 5.467\"] ;\\n108 -> 109 ;\\n110 [label=\"mse = 0.0\\\\nsamples = 1\\\\nvalue = 5.5\"] ;\\n109 -> 110 ;\\n111 [label=\"mse = 0.0\\\\nsamples = 1\\\\nvalue = 5.4\"] ;\\n109 -> 111 ;\\n112 [label=\"mse = 0.0\\\\nsamples = 1\\\\nvalue = 5.8\"] ;\\n108 -> 112 ;\\n113 [label=\"mse = -0.0\\\\nsamples = 1\\\\nvalue = 6.0\"] ;\\n101 -> 113 ;\\n114 [label=\"X[0] <= 6.535\\\\nmse = 0.04\\\\nsamples = 3\\\\nvalue = 4.4\"] ;\\n100 -> 114 ;\\n115 [label=\"mse = 0.0\\\\nsamples = 1\\\\nvalue = 4.0\"] ;\\n114 -> 115 ;\\n116 [label=\"mse = 0.0\\\\nsamples = 2\\\\nvalue = 4.5\"] ;\\n114 -> 116 ;\\n117 [label=\"X[5] <= 0.5\\\\nmse = 0.31\\\\nsamples = 9\\\\nvalue = 4.154\"] ;\\n99 -> 117 ;\\n118 [label=\"X[0] <= 7.18\\\\nmse = 0.031\\\\nsamples = 2\\\\nvalue = 4.775\"] ;\\n117 -> 118 ;\\n119 [label=\"mse = 0.0\\\\nsamples = 1\\\\nvalue = 4.6\"] ;\\n118 -> 119 ;\\n120 [label=\"mse = -0.0\\\\nsamples = 1\\\\nvalue = 4.95\"] ;\\n118 -> 120 ;\\n121 [label=\"X[0] <= 6.345\\\\nmse = 0.273\\\\nsamples = 7\\\\nvalue = 4.03\"] ;\\n117 -> 121 ;\\n122 [label=\"mse = 0.0\\\\nsamples = 1\\\\nvalue = 3.5\"] ;\\n121 -> 122 ;\\n123 [label=\"X[1] <= 34500.0\\\\nmse = 0.269\\\\nsamples = 6\\\\nvalue = 4.089\"] ;\\n121 -> 123 ;\\n124 [label=\"X[7] <= 0.5\\\\nmse = 0.162\\\\nsamples = 3\\\\nvalue = 4.733\"] ;\\n123 -> 124 ;\\n125 [label=\"mse = 0.0\\\\nsamples = 1\\\\nvalue = 4.5\"] ;\\n124 -> 125 ;\\n126 [label=\"X[0] <= 6.965\\\\nmse = 0.203\\\\nsamples = 2\\\\nvalue = 4.85\"] ;\\n124 -> 126 ;\\n127 [label=\"mse = 0.0\\\\nsamples = 1\\\\nvalue = 5.3\"] ;\\n126 -> 127 ;\\n128 [label=\"mse = 0.0\\\\nsamples = 1\\\\nvalue = 4.4\"] ;\\n126 -> 128 ;\\n129 [label=\"X[3] <= 8.0\\\\nmse = 0.011\\\\nsamples = 3\\\\nvalue = 3.767\"] ;\\n123 -> 129 ;\\n130 [label=\"X[1] <= 35527.0\\\\nmse = 0.016\\\\nsamples = 2\\\\nvalue = 3.775\"] ;\\n129 -> 130 ;\\n131 [label=\"mse = 0.0\\\\nsamples = 1\\\\nvalue = 3.65\"] ;\\n130 -> 131 ;\\n132 [label=\"mse = 0.0\\\\nsamples = 1\\\\nvalue = 3.9\"] ;\\n130 -> 132 ;\\n133 [label=\"mse = 0.0\\\\nsamples = 1\\\\nvalue = 3.75\"] ;\\n129 -> 133 ;\\n134 [label=\"X[4] <= 0.5\\\\nmse = 0.349\\\\nsamples = 14\\\\nvalue = 2.731\"] ;\\n76 -> 134 ;\\n135 [label=\"X[5] <= 0.5\\\\nmse = 0.306\\\\nsamples = 13\\\\nvalue = 2.688\"] ;\\n134 -> 135 ;\\n136 [label=\"mse = 0.0\\\\nsamples = 1\\\\nvalue = 2.95\"] ;\\n135 -> 136 ;\\n137 [label=\"X[0] <= 6.525\\\\nmse = 0.344\\\\nsamples = 12\\\\nvalue = 2.644\"] ;\\n135 -> 137 ;\\n138 [label=\"X[1] <= 54669.0\\\\nmse = 0.37\\\\nsamples = 9\\\\nvalue = 2.824\"] ;\\n137 -> 138 ;\\n139 [label=\"X[1] <= 50453.0\\\\nmse = 0.013\\\\nsamples = 4\\\\nvalue = 2.456\"] ;\\n138 -> 139 ;\\n140 [label=\"X[0] <= 4.845\\\\nmse = 0.003\\\\nsamples = 3\\\\nvalue = 2.562\"] ;\\n139 -> 140 ;\\n141 [label=\"X[0] <= 3.72\\\\nmse = 0.001\\\\nsamples = 2\\\\nvalue = 2.533\"] ;\\n140 -> 141 ;\\n142 [label=\"mse = 0.0\\\\nsamples = 1\\\\nvalue = 2.5\"] ;\\n141 -> 142 ;\\n143 [label=\"mse = 0.0\\\\nsamples = 1\\\\nvalue = 2.55\"] ;\\n141 -> 143 ;\\n144 [label=\"mse = -0.0\\\\nsamples = 1\\\\nvalue = 2.65\"] ;\\n140 -> 144 ;\\n145 [label=\"mse = 0.0\\\\nsamples = 1\\\\nvalue = 2.35\"] ;\\n139 -> 145 ;\\n146 [label=\"X[1] <= 56008.5\\\\nmse = 0.461\\\\nsamples = 5\\\\nvalue = 3.15\"] ;\\n138 -> 146 ;\\n147 [label=\"mse = 0.0\\\\nsamples = 1\\\\nvalue = 4.15\"] ;\\n146 -> 147 ;\\n148 [label=\"X[3] <= 7.0\\\\nmse = 0.225\\\\nsamples = 4\\\\nvalue = 2.864\"] ;\\n146 -> 148 ;\\n149 [label=\"mse = 0.0\\\\nsamples = 1\\\\nvalue = 4.0\"] ;\\n148 -> 149 ;\\n150 [label=\"X[3] <= 9.0\\\\nmse = 0.011\\\\nsamples = 3\\\\nvalue = 2.675\"] ;\\n148 -> 150 ;\\n151 [label=\"X[0] <= 4.65\\\\nmse = 0.01\\\\nsamples = 2\\\\nvalue = 2.7\"] ;\\n150 -> 151 ;\\n152 [label=\"mse = 0.0\\\\nsamples = 1\\\\nvalue = 2.9\"] ;\\n151 -> 152 ;\\n153 [label=\"mse = 0.0\\\\nsamples = 1\\\\nvalue = 2.65\"] ;\\n151 -> 153 ;\\n154 [label=\"mse = -0.0\\\\nsamples = 1\\\\nvalue = 2.55\"] ;\\n150 -> 154 ;\\n155 [label=\"X[1] <= 59601.5\\\\nmse = 0.011\\\\nsamples = 3\\\\nvalue = 2.207\"] ;\\n137 -> 155 ;\\n156 [label=\"mse = 0.0\\\\nsamples = 1\\\\nvalue = 1.95\"] ;\\n155 -> 156 ;\\n157 [label=\"X[0] <= 7.355\\\\nmse = 0.0\\\\nsamples = 2\\\\nvalue = 2.25\"] ;\\n155 -> 157 ;\\n158 [label=\"mse = 0.0\\\\nsamples = 1\\\\nvalue = 2.25\"] ;\\n157 -> 158 ;\\n159 [label=\"mse = 0.0\\\\nsamples = 1\\\\nvalue = 2.25\"] ;\\n157 -> 159 ;\\n160 [label=\"mse = -0.0\\\\nsamples = 1\\\\nvalue = 3.95\"] ;\\n134 -> 160 ;\\n161 [label=\"X[0] <= 6.25\\\\nmse = 0.294\\\\nsamples = 2\\\\nvalue = 4.867\"] ;\\n75 -> 161 ;\\n162 [label=\"mse = 0.0\\\\nsamples = 1\\\\nvalue = 5.25\"] ;\\n161 -> 162 ;\\n163 [label=\"mse = 0.0\\\\nsamples = 1\\\\nvalue = 4.1\"] ;\\n161 -> 163 ;\\n164 [label=\"X[5] <= 0.5\\\\nmse = 16.369\\\\nsamples = 63\\\\nvalue = 7.399\"] ;\\n0 -> 164 [labeldistance=2.5, labelangle=-45, headlabel=\"False\"] ;\\n165 [label=\"X[1] <= 40839.0\\\\nmse = 22.807\\\\nsamples = 27\\\\nvalue = 9.282\"] ;\\n164 -> 165 ;\\n166 [label=\"X[1] <= 39000.0\\\\nmse = 44.624\\\\nsamples = 9\\\\nvalue = 12.038\"] ;\\n165 -> 166 ;\\n167 [label=\"X[3] <= 4.5\\\\nmse = 24.707\\\\nsamples = 7\\\\nvalue = 9.845\"] ;\\n166 -> 167 ;\\n168 [label=\"X[1] <= 12000.0\\\\nmse = 33.062\\\\nsamples = 2\\\\nvalue = 17.25\"] ;\\n167 -> 168 ;\\n169 [label=\"mse = 0.0\\\\nsamples = 1\\\\nvalue = 11.5\"] ;\\n168 -> 169 ;\\n170 [label=\"mse = 0.0\\\\nsamples = 1\\\\nvalue = 23.0\"] ;\\n168 -> 170 ;\\n171 [label=\"X[0] <= 10.5\\\\nmse = 5.482\\\\nsamples = 5\\\\nvalue = 7.994\"] ;\\n167 -> 171 ;\\n172 [label=\"X[1] <= 26297.5\\\\nmse = 1.541\\\\nsamples = 3\\\\nvalue = 6.49\"] ;\\n171 -> 172 ;\\n173 [label=\"mse = 0.0\\\\nsamples = 1\\\\nvalue = 8.75\"] ;\\n172 -> 173 ;\\n174 [label=\"X[0] <= 9.005\\\\nmse = 0.331\\\\nsamples = 2\\\\nvalue = 5.925\"] ;\\n172 -> 174 ;\\n175 [label=\"mse = 0.0\\\\nsamples = 1\\\\nvalue = 6.5\"] ;\\n174 -> 175 ;\\n176 [label=\"mse = 0.0\\\\nsamples = 1\\\\nvalue = 5.35\"] ;\\n174 -> 176 ;\\n177 [label=\"X[1] <= 35994.0\\\\nmse = 2.0\\\\nsamples = 2\\\\nvalue = 10.5\"] ;\\n171 -> 177 ;\\n178 [label=\"mse = 0.0\\\\nsamples = 1\\\\nvalue = 9.5\"] ;\\n177 -> 178 ;\\n179 [label=\"mse = 0.0\\\\nsamples = 1\\\\nvalue = 12.5\"] ;\\n177 -> 179 ;\\n180 [label=\"mse = 0.0\\\\nsamples = 2\\\\nvalue = 23.0\"] ;\\n166 -> 180 ;\\n181 [label=\"X[0] <= 13.53\\\\nmse = 6.941\\\\nsamples = 18\\\\nvalue = 7.96\"] ;\\n165 -> 181 ;\\n182 [label=\"X[0] <= 13.275\\\\nmse = 2.382\\\\nsamples = 13\\\\nvalue = 6.727\"] ;\\n181 -> 182 ;\\n183 [label=\"X[0] <= 10.37\\\\nmse = 1.87\\\\nsamples = 12\\\\nvalue = 6.918\"] ;\\n182 -> 183 ;\\n184 [label=\"X[0] <= 9.65\\\\nmse = 0.538\\\\nsamples = 7\\\\nvalue = 5.807\"] ;\\n183 -> 184 ;\\n185 [label=\"X[0] <= 9.165\\\\nmse = 0.257\\\\nsamples = 5\\\\nvalue = 5.49\"] ;\\n184 -> 185 ;\\n186 [label=\"X[0] <= 8.495\\\\nmse = 0.09\\\\nsamples = 2\\\\nvalue = 5.2\"] ;\\n185 -> 186 ;\\n187 [label=\"mse = 0.0\\\\nsamples = 1\\\\nvalue = 5.5\"] ;\\n186 -> 187 ;\\n188 [label=\"mse = 0.0\\\\nsamples = 1\\\\nvalue = 4.9\"] ;\\n186 -> 188 ;\\n189 [label=\"X[1] <= 54500.0\\\\nmse = 0.276\\\\nsamples = 3\\\\nvalue = 5.683\"] ;\\n185 -> 189 ;\\n190 [label=\"X[1] <= 47000.0\\\\nmse = 0.01\\\\nsamples = 2\\\\nvalue = 6.05\"] ;\\n189 -> 190 ;\\n191 [label=\"mse = 0.0\\\\nsamples = 1\\\\nvalue = 6.15\"] ;\\n190 -> 191 ;\\n192 [label=\"mse = -0.0\\\\nsamples = 1\\\\nvalue = 5.95\"] ;\\n190 -> 192 ;\\n193 [label=\"mse = 0.0\\\\nsamples = 1\\\\nvalue = 4.95\"] ;\\n189 -> 193 ;\\n194 [label=\"X[1] <= 46500.0\\\\nmse = 0.36\\\\nsamples = 2\\\\nvalue = 6.6\"] ;\\n184 -> 194 ;\\n195 [label=\"mse = 0.0\\\\nsamples = 1\\\\nvalue = 6.0\"] ;\\n194 -> 195 ;\\n196 [label=\"mse = 0.0\\\\nsamples = 1\\\\nvalue = 7.2\"] ;\\n194 -> 196 ;\\n197 [label=\"X[3] <= 8.0\\\\nmse = 1.334\\\\nsamples = 5\\\\nvalue = 7.695\"] ;\\n183 -> 197 ;\\n198 [label=\"X[0] <= 11.94\\\\nmse = 0.222\\\\nsamples = 4\\\\nvalue = 8.05\"] ;\\n197 -> 198 ;\\n199 [label=\"X[1] <= 42339.0\\\\nmse = 0.04\\\\nsamples = 3\\\\nvalue = 7.65\"] ;\\n198 -> 199 ;\\n200 [label=\"mse = 0.0\\\\nsamples = 1\\\\nvalue = 7.25\"] ;\\n199 -> 200 ;\\n201 [label=\"mse = 0.0\\\\nsamples = 2\\\\nvalue = 7.75\"] ;\\n199 -> 201 ;\\n202 [label=\"mse = 0.0\\\\nsamples = 1\\\\nvalue = 8.55\"] ;\\n198 -> 202 ;\\n203 [label=\"mse = 0.0\\\\nsamples = 1\\\\nvalue = 4.5\"] ;\\n197 -> 203 ;\\n204 [label=\"mse = 0.0\\\\nsamples = 1\\\\nvalue = 3.49\"] ;\\n182 -> 204 ;\\n205 [label=\"X[7] <= 0.5\\\\nmse = 4.717\\\\nsamples = 5\\\\nvalue = 11.129\"] ;\\n181 -> 205 ;\\n206 [label=\"mse = 0.0\\\\nsamples = 1\\\\nvalue = 16.0\"] ;\\n205 -> 206 ;\\n207 [label=\"X[1] <= 63500.0\\\\nmse = 0.889\\\\nsamples = 4\\\\nvalue = 10.317\"] ;\\n205 -> 207 ;\\n208 [label=\"X[0] <= 18.27\\\\nmse = 0.68\\\\nsamples = 3\\\\nvalue = 9.85\"] ;\\n207 -> 208 ;\\n209 [label=\"mse = 0.0\\\\nsamples = 1\\\\nvalue = 11.25\"] ;\\n208 -> 209 ;\\n210 [label=\"X[1] <= 54512.0\\\\nmse = 0.036\\\\nsamples = 2\\\\nvalue = 9.383\"] ;\\n208 -> 210 ;\\n211 [label=\"mse = 0.0\\\\nsamples = 1\\\\nvalue = 9.65\"] ;\\n210 -> 211 ;\\n212 [label=\"mse = 0.0\\\\nsamples = 1\\\\nvalue = 9.25\"] ;\\n210 -> 212 ;\\n213 [label=\"mse = -0.0\\\\nsamples = 1\\\\nvalue = 11.25\"] ;\\n207 -> 213 ;\\n214 [label=\"X[0] <= 12.975\\\\nmse = 7.259\\\\nsamples = 36\\\\nvalue = 6.033\"] ;\\n164 -> 214 ;\\n215 [label=\"X[1] <= 58471.0\\\\nmse = 4.937\\\\nsamples = 18\\\\nvalue = 5.214\"] ;\\n214 -> 215 ;\\n216 [label=\"X[3] <= 7.5\\\\nmse = 2.05\\\\nsamples = 11\\\\nvalue = 6.746\"] ;\\n215 -> 216 ;\\n217 [label=\"X[1] <= 19791.5\\\\nmse = 1.422\\\\nsamples = 8\\\\nvalue = 7.245\"] ;\\n216 -> 217 ;\\n218 [label=\"X[3] <= 4.5\\\\nmse = 0.549\\\\nsamples = 5\\\\nvalue = 8.013\"] ;\\n217 -> 218 ;\\n219 [label=\"X[1] <= 10950.5\\\\nmse = 0.531\\\\nsamples = 3\\\\nvalue = 8.075\"] ;\\n218 -> 219 ;\\n220 [label=\"X[1] <= 5167.5\\\\nmse = 0.094\\\\nsamples = 2\\\\nvalue = 7.683\"] ;\\n219 -> 220 ;\\n221 [label=\"mse = 0.0\\\\nsamples = 1\\\\nvalue = 7.9\"] ;\\n220 -> 221 ;\\n222 [label=\"mse = -0.0\\\\nsamples = 1\\\\nvalue = 7.25\"] ;\\n220 -> 222 ;\\n223 [label=\"mse = 0.0\\\\nsamples = 1\\\\nvalue = 9.25\"] ;\\n219 -> 223 ;\\n224 [label=\"X[0] <= 10.15\\\\nmse = 0.562\\\\nsamples = 2\\\\nvalue = 7.93\"] ;\\n218 -> 224 ;\\n225 [label=\"mse = 0.0\\\\nsamples = 1\\\\nvalue = 7.4\"] ;\\n224 -> 225 ;\\n226 [label=\"mse = 0.0\\\\nsamples = 1\\\\nvalue = 8.99\"] ;\\n224 -> 226 ;\\n227 [label=\"X[1] <= 36823.5\\\\nmse = 0.108\\\\nsamples = 3\\\\nvalue = 5.9\"] ;\\n217 -> 227 ;\\n228 [label=\"X[7] <= 0.5\\\\nmse = 0.009\\\\nsamples = 2\\\\nvalue = 5.717\"] ;\\n227 -> 228 ;\\n229 [label=\"mse = 0.0\\\\nsamples = 1\\\\nvalue = 5.85\"] ;\\n228 -> 229 ;\\n230 [label=\"mse = 0.0\\\\nsamples = 1\\\\nvalue = 5.65\"] ;\\n228 -> 230 ;\\n231 [label=\"mse = 0.0\\\\nsamples = 1\\\\nvalue = 6.45\"] ;\\n227 -> 231 ;\\n232 [label=\"X[0] <= 9.65\\\\nmse = 0.097\\\\nsamples = 3\\\\nvalue = 4.917\"] ;\\n216 -> 232 ;\\n233 [label=\"mse = 0.0\\\\nsamples = 1\\\\nvalue = 4.5\"] ;\\n232 -> 233 ;\\n234 [label=\"X[1] <= 55471.5\\\\nmse = 0.016\\\\nsamples = 2\\\\nvalue = 5.125\"] ;\\n232 -> 234 ;\\n235 [label=\"mse = 0.0\\\\nsamples = 1\\\\nvalue = 5.25\"] ;\\n234 -> 235 ;\\n236 [label=\"mse = 0.0\\\\nsamples = 1\\\\nvalue = 5.0\"] ;\\n234 -> 236 ;\\n237 [label=\"X[6] <= 0.5\\\\nmse = 1.098\\\\nsamples = 7\\\\nvalue = 3.07\"] ;\\n215 -> 237 ;\\n238 [label=\"X[0] <= 11.675\\\\nmse = 1.207\\\\nsamples = 6\\\\nvalue = 3.106\"] ;\\n237 -> 238 ;\\n239 [label=\"X[3] <= 11.0\\\\nmse = 0.606\\\\nsamples = 5\\\\nvalue = 3.564\"] ;\\n238 -> 239 ;\\n240 [label=\"X[1] <= 64791.0\\\\nmse = 0.109\\\\nsamples = 2\\\\nvalue = 4.333\"] ;\\n239 -> 240 ;\\n241 [label=\"mse = 0.0\\\\nsamples = 1\\\\nvalue = 4.8\"] ;\\n240 -> 241 ;\\n242 [label=\"mse = 0.0\\\\nsamples = 1\\\\nvalue = 4.1\"] ;\\n240 -> 242 ;\\n243 [label=\"X[1] <= 65781.0\\\\nmse = 0.202\\\\nsamples = 3\\\\nvalue = 2.988\"] ;\\n239 -> 243 ;\\n244 [label=\"mse = 0.0\\\\nsamples = 1\\\\nvalue = 2.25\"] ;\\n243 -> 244 ;\\n245 [label=\"X[1] <= 78748.0\\\\nmse = 0.027\\\\nsamples = 2\\\\nvalue = 3.233\"] ;\\n243 -> 245 ;\\n246 [label=\"mse = 0.0\\\\nsamples = 1\\\\nvalue = 3.0\"] ;\\n245 -> 246 ;\\n247 [label=\"mse = 0.0\\\\nsamples = 1\\\\nvalue = 3.35\"] ;\\n245 -> 247 ;\\n248 [label=\"mse = 0.0\\\\nsamples = 1\\\\nvalue = 1.5\"] ;\\n238 -> 248 ;\\n249 [label=\"mse = 0.0\\\\nsamples = 1\\\\nvalue = 2.75\"] ;\\n237 -> 249 ;\\n250 [label=\"X[1] <= 47500.0\\\\nmse = 8.197\\\\nsamples = 18\\\\nvalue = 6.761\"] ;\\n214 -> 250 ;\\n251 [label=\"X[3] <= 5.5\\\\nmse = 3.798\\\\nsamples = 9\\\\nvalue = 9.132\"] ;\\n250 -> 251 ;\\n252 [label=\"X[7] <= 0.5\\\\nmse = 2.847\\\\nsamples = 4\\\\nvalue = 10.403\"] ;\\n251 -> 252 ;\\n253 [label=\"mse = 0.0\\\\nsamples = 1\\\\nvalue = 10.9\"] ;\\n252 -> 253 ;\\n254 [label=\"X[1] <= 20611.5\\\\nmse = 3.273\\\\nsamples = 3\\\\nvalue = 10.32\"] ;\\n252 -> 254 ;\\n255 [label=\"X[0] <= 17.255\\\\nmse = 3.809\\\\nsamples = 2\\\\nvalue = 11.49\"] ;\\n254 -> 255 ;\\n256 [label=\"mse = 0.0\\\\nsamples = 1\\\\nvalue = 10.11\"] ;\\n255 -> 256 ;\\n257 [label=\"mse = 0.0\\\\nsamples = 1\\\\nvalue = 14.25\"] ;\\n255 -> 257 ;\\n258 [label=\"mse = 0.0\\\\nsamples = 1\\\\nvalue = 9.15\"] ;\\n254 -> 258 ;\\n259 [label=\"X[0] <= 16.105\\\\nmse = 0.827\\\\nsamples = 5\\\\nvalue = 7.65\"] ;\\n251 -> 259 ;\\n260 [label=\"X[1] <= 37063.0\\\\nmse = 0.971\\\\nsamples = 4\\\\nvalue = 7.95\"] ;\\n259 -> 260 ;\\n261 [label=\"X[1] <= 29400.0\\\\nmse = 0.016\\\\nsamples = 2\\\\nvalue = 8.525\"] ;\\n260 -> 261 ;\\n262 [label=\"mse = 0.0\\\\nsamples = 1\\\\nvalue = 8.65\"] ;\\n261 -> 262 ;\\n263 [label=\"mse = -0.0\\\\nsamples = 1\\\\nvalue = 8.4\"] ;\\n261 -> 263 ;\\n264 [label=\"X[3] <= 6.5\\\\nmse = 1.266\\\\nsamples = 2\\\\nvalue = 7.375\"] ;\\n260 -> 264 ;\\n265 [label=\"mse = 0.0\\\\nsamples = 1\\\\nvalue = 8.5\"] ;\\n264 -> 265 ;\\n266 [label=\"mse = 0.0\\\\nsamples = 1\\\\nvalue = 6.25\"] ;\\n264 -> 266 ;\\n267 [label=\"mse = -0.0\\\\nsamples = 1\\\\nvalue = 7.05\"] ;\\n259 -> 267 ;\\n268 [label=\"X[3] <= 9.5\\\\nmse = 2.209\\\\nsamples = 9\\\\nvalue = 4.559\"] ;\\n250 -> 268 ;\\n269 [label=\"X[1] <= 64000.5\\\\nmse = 0.569\\\\nsamples = 2\\\\nvalue = 6.917\"] ;\\n268 -> 269 ;\\n270 [label=\"mse = 0.0\\\\nsamples = 1\\\\nvalue = 7.45\"] ;\\n269 -> 270 ;\\n271 [label=\"mse = 0.0\\\\nsamples = 1\\\\nvalue = 5.85\"] ;\\n269 -> 271 ;\\n272 [label=\"X[6] <= 0.5\\\\nmse = 0.727\\\\nsamples = 7\\\\nvalue = 3.915\"] ;\\n268 -> 272 ;\\n273 [label=\"X[0] <= 16.79\\\\nmse = 0.344\\\\nsamples = 6\\\\nvalue = 4.23\"] ;\\n272 -> 273 ;\\n274 [label=\"X[7] <= 0.5\\\\nmse = 0.159\\\\nsamples = 3\\\\nvalue = 3.864\"] ;\\n273 -> 274 ;\\n275 [label=\"mse = 0.0\\\\nsamples = 1\\\\nvalue = 3.6\"] ;\\n274 -> 275 ;\\n276 [label=\"X[3] <= 13.0\\\\nmse = 0.176\\\\nsamples = 2\\\\nvalue = 3.93\"] ;\\n274 -> 276 ;\\n277 [label=\"mse = 0.0\\\\nsamples = 1\\\\nvalue = 4.35\"] ;\\n276 -> 277 ;\\n278 [label=\"mse = 0.0\\\\nsamples = 1\\\\nvalue = 3.51\"] ;\\n276 -> 278 ;\\n279 [label=\"X[7] <= 0.5\\\\nmse = 0.199\\\\nsamples = 3\\\\nvalue = 4.688\"] ;\\n273 -> 279 ;\\n280 [label=\"X[0] <= 22.805\\\\nmse = 0.391\\\\nsamples = 2\\\\nvalue = 4.625\"] ;\\n279 -> 280 ;\\n281 [label=\"mse = 0.0\\\\nsamples = 1\\\\nvalue = 4.0\"] ;\\n280 -> 281 ;\\n282 [label=\"mse = 0.0\\\\nsamples = 1\\\\nvalue = 5.25\"] ;\\n280 -> 282 ;\\n283 [label=\"mse = 0.0\\\\nsamples = 1\\\\nvalue = 4.75\"] ;\\n279 -> 283 ;\\n284 [label=\"mse = 0.0\\\\nsamples = 1\\\\nvalue = 2.5\"] ;\\n272 -> 284 ;\\n}'"
      ]
     },
     "execution_count": 56,
     "metadata": {},
     "output_type": "execute_result"
    },
    {
     "data": {
      "image/png": "[encoded data removed]",
      "text/plain": [
       "<Figure size 432x288 with 1 Axes>"
      ]
     },
     "metadata": {
      "needs_background": "light"
     },
     "output_type": "display_data"
    }
   ],
   "source": [
    "from sklearn import tree\n",
    "tree.plot_tree(rf_random.best_estimator_.estimators_[0])\n",
    "tree.export_graphviz(rf_random.best_estimator_.estimators_[0])"
   ]
  },
  {
   "cell_type": "markdown",
   "metadata": {},
   "source": [
    "## Testing the data "
   ]
  },
  {
   "cell_type": "code",
   "execution_count": null,
   "metadata": {},
   "outputs": [],
   "source": [
    "predictions = rf_random.predict(X_test)\n",
    "predictions"
   ]
  },
  {
   "cell_type": "code",
   "execution_count": null,
   "metadata": {},
   "outputs": [],
   "source": [
    "sns.distplot(y_test-predictions)"
   ]
  },
  {
   "cell_type": "code",
   "execution_count": null,
   "metadata": {},
   "outputs": [],
   "source": [
    "plt.scatter(y_test,predictions)"
   ]
  },
  {
   "cell_type": "markdown",
   "metadata": {},
   "source": [
    "## Accuracy of the model "
   ]
  },
  {
   "cell_type": "code",
   "execution_count": null,
   "metadata": {
    "scrolled": true
   },
   "outputs": [],
   "source": [
    "from sklearn import metrics\n",
    "print(\"MAE:\", metrics.mean_absolute_error(y_test,predictions))\n",
    "print(\"MSE:\", metrics.mean_squared_error(y_test, predictions))\n",
    "print(\"RMSE:\",np.sqrt(metrics.mean_squared_error(y_test,predictions)))\n",
    "print('R squared: ',metrics.r2_score(y_test,predictions))"
   ]
  },
  {
   "cell_type": "markdown",
   "metadata": {},
   "source": [
    "### This random forest model is betterment of the linear regression model and gives us 90 % accuracy "
   ]
  },
  {
   "cell_type": "markdown",
   "metadata": {},
   "source": [
    "### Regressor model saved as pickle file for faster execution speed "
   ]
  },
  {
   "cell_type": "code",
   "execution_count": null,
   "metadata": {},
   "outputs": [],
   "source": [
    "import pickle\n",
    "# open a file, where you ant to store the data\n",
    "file = open('random_forest_regression_model.pkl', 'wb')\n",
    "\n",
    "# dump information to that file\n",
    "pickle.dump(rf_random, file)"
   ]
  },
  {
   "cell_type": "code",
   "execution_count": null,
   "metadata": {},
   "outputs": [],
   "source": []
  }
 ],
 "metadata": {
  "kernelspec": {
   "display_name": "Python 3",
   "language": "python",
   "name": "python3"
  },
  "language_info": {
   "codemirror_mode": {
    "name": "ipython",
    "version": 3
   },
   "file_extension": ".py",
   "mimetype": "text/x-python",
   "name": "python",
   "nbconvert_exporter": "python",
   "pygments_lexer": "ipython3",
   "version": "3.8.5"
  }
 },
 "nbformat": 4,
 "nbformat_minor": 4
}
